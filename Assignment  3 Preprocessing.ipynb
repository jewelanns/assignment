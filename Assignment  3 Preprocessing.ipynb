{
 "cells": [
  {
   "cell_type": "code",
   "execution_count": 1,
   "id": "61618500",
   "metadata": {},
   "outputs": [],
   "source": [
    "import numpy as np\n",
    "import pandas as pd\n",
    "import seaborn as sns\n",
    "import matplotlib.pyplot as plt"
   ]
  },
  {
   "cell_type": "markdown",
   "id": "708d3f48",
   "metadata": {},
   "source": [
    "## To find and manage outliers"
   ]
  },
  {
   "cell_type": "code",
   "execution_count": 2,
   "id": "3380cb33",
   "metadata": {},
   "outputs": [],
   "source": [
    "url = 'http://bit.ly/drinksbycountry'"
   ]
  },
  {
   "cell_type": "code",
   "execution_count": 3,
   "id": "50ce46f5",
   "metadata": {
    "scrolled": false
   },
   "outputs": [
    {
     "data": {
      "text/html": [
       "<div>\n",
       "<style scoped>\n",
       "    .dataframe tbody tr th:only-of-type {\n",
       "        vertical-align: middle;\n",
       "    }\n",
       "\n",
       "    .dataframe tbody tr th {\n",
       "        vertical-align: top;\n",
       "    }\n",
       "\n",
       "    .dataframe thead th {\n",
       "        text-align: right;\n",
       "    }\n",
       "</style>\n",
       "<table border=\"1\" class=\"dataframe\">\n",
       "  <thead>\n",
       "    <tr style=\"text-align: right;\">\n",
       "      <th></th>\n",
       "      <th>country,beer_servings,spirit_servings,wine_servings,total_litres_of_pure_alcohol,continent</th>\n",
       "    </tr>\n",
       "  </thead>\n",
       "  <tbody>\n",
       "    <tr>\n",
       "      <th>0</th>\n",
       "      <td>Afghanistan,0,0,0,0.0,Asia</td>\n",
       "    </tr>\n",
       "    <tr>\n",
       "      <th>1</th>\n",
       "      <td>Albania,89,132,54,4.9,Europe</td>\n",
       "    </tr>\n",
       "    <tr>\n",
       "      <th>2</th>\n",
       "      <td>Algeria,25,0,14,0.7,Africa</td>\n",
       "    </tr>\n",
       "    <tr>\n",
       "      <th>3</th>\n",
       "      <td>Andorra,245,138,312,12.4,Europe</td>\n",
       "    </tr>\n",
       "    <tr>\n",
       "      <th>4</th>\n",
       "      <td>Angola,217,57,45,5.9,Africa</td>\n",
       "    </tr>\n",
       "    <tr>\n",
       "      <th>...</th>\n",
       "      <td>...</td>\n",
       "    </tr>\n",
       "    <tr>\n",
       "      <th>188</th>\n",
       "      <td>Venezuela,333,100,3,7.7,South America</td>\n",
       "    </tr>\n",
       "    <tr>\n",
       "      <th>189</th>\n",
       "      <td>Vietnam,111,2,1,2.0,Asia</td>\n",
       "    </tr>\n",
       "    <tr>\n",
       "      <th>190</th>\n",
       "      <td>Yemen,6,0,0,0.1,Asia</td>\n",
       "    </tr>\n",
       "    <tr>\n",
       "      <th>191</th>\n",
       "      <td>Zambia,32,19,4,2.5,Africa</td>\n",
       "    </tr>\n",
       "    <tr>\n",
       "      <th>192</th>\n",
       "      <td>Zimbabwe,64,18,4,4.7,Africa</td>\n",
       "    </tr>\n",
       "  </tbody>\n",
       "</table>\n",
       "<p>193 rows × 1 columns</p>\n",
       "</div>"
      ],
      "text/plain": [
       "    country,beer_servings,spirit_servings,wine_servings,total_litres_of_pure_alcohol,continent\n",
       "0                           Afghanistan,0,0,0,0.0,Asia                                        \n",
       "1                         Albania,89,132,54,4.9,Europe                                        \n",
       "2                           Algeria,25,0,14,0.7,Africa                                        \n",
       "3                      Andorra,245,138,312,12.4,Europe                                        \n",
       "4                          Angola,217,57,45,5.9,Africa                                        \n",
       "..                                                 ...                                        \n",
       "188              Venezuela,333,100,3,7.7,South America                                        \n",
       "189                           Vietnam,111,2,1,2.0,Asia                                        \n",
       "190                               Yemen,6,0,0,0.1,Asia                                        \n",
       "191                          Zambia,32,19,4,2.5,Africa                                        \n",
       "192                        Zimbabwe,64,18,4,4.7,Africa                                        \n",
       "\n",
       "[193 rows x 1 columns]"
      ]
     },
     "execution_count": 3,
     "metadata": {},
     "output_type": "execute_result"
    }
   ],
   "source": [
    "pd.read_table(url)"
   ]
  },
  {
   "cell_type": "code",
   "execution_count": 4,
   "id": "8cd580c0",
   "metadata": {},
   "outputs": [
    {
     "data": {
      "text/html": [
       "<div>\n",
       "<style scoped>\n",
       "    .dataframe tbody tr th:only-of-type {\n",
       "        vertical-align: middle;\n",
       "    }\n",
       "\n",
       "    .dataframe tbody tr th {\n",
       "        vertical-align: top;\n",
       "    }\n",
       "\n",
       "    .dataframe thead th {\n",
       "        text-align: right;\n",
       "    }\n",
       "</style>\n",
       "<table border=\"1\" class=\"dataframe\">\n",
       "  <thead>\n",
       "    <tr style=\"text-align: right;\">\n",
       "      <th></th>\n",
       "      <th>country</th>\n",
       "      <th>beer_servings</th>\n",
       "      <th>spirit_servings</th>\n",
       "      <th>wine_servings</th>\n",
       "      <th>total_litres_of_pure_alcohol</th>\n",
       "      <th>continent</th>\n",
       "    </tr>\n",
       "  </thead>\n",
       "  <tbody>\n",
       "    <tr>\n",
       "      <th>0</th>\n",
       "      <td>Afghanistan</td>\n",
       "      <td>0</td>\n",
       "      <td>0</td>\n",
       "      <td>0</td>\n",
       "      <td>0.0</td>\n",
       "      <td>Asia</td>\n",
       "    </tr>\n",
       "    <tr>\n",
       "      <th>1</th>\n",
       "      <td>Albania</td>\n",
       "      <td>89</td>\n",
       "      <td>132</td>\n",
       "      <td>54</td>\n",
       "      <td>4.9</td>\n",
       "      <td>Europe</td>\n",
       "    </tr>\n",
       "    <tr>\n",
       "      <th>2</th>\n",
       "      <td>Algeria</td>\n",
       "      <td>25</td>\n",
       "      <td>0</td>\n",
       "      <td>14</td>\n",
       "      <td>0.7</td>\n",
       "      <td>Africa</td>\n",
       "    </tr>\n",
       "    <tr>\n",
       "      <th>3</th>\n",
       "      <td>Andorra</td>\n",
       "      <td>245</td>\n",
       "      <td>138</td>\n",
       "      <td>312</td>\n",
       "      <td>12.4</td>\n",
       "      <td>Europe</td>\n",
       "    </tr>\n",
       "    <tr>\n",
       "      <th>4</th>\n",
       "      <td>Angola</td>\n",
       "      <td>217</td>\n",
       "      <td>57</td>\n",
       "      <td>45</td>\n",
       "      <td>5.9</td>\n",
       "      <td>Africa</td>\n",
       "    </tr>\n",
       "    <tr>\n",
       "      <th>...</th>\n",
       "      <td>...</td>\n",
       "      <td>...</td>\n",
       "      <td>...</td>\n",
       "      <td>...</td>\n",
       "      <td>...</td>\n",
       "      <td>...</td>\n",
       "    </tr>\n",
       "    <tr>\n",
       "      <th>188</th>\n",
       "      <td>Venezuela</td>\n",
       "      <td>333</td>\n",
       "      <td>100</td>\n",
       "      <td>3</td>\n",
       "      <td>7.7</td>\n",
       "      <td>South America</td>\n",
       "    </tr>\n",
       "    <tr>\n",
       "      <th>189</th>\n",
       "      <td>Vietnam</td>\n",
       "      <td>111</td>\n",
       "      <td>2</td>\n",
       "      <td>1</td>\n",
       "      <td>2.0</td>\n",
       "      <td>Asia</td>\n",
       "    </tr>\n",
       "    <tr>\n",
       "      <th>190</th>\n",
       "      <td>Yemen</td>\n",
       "      <td>6</td>\n",
       "      <td>0</td>\n",
       "      <td>0</td>\n",
       "      <td>0.1</td>\n",
       "      <td>Asia</td>\n",
       "    </tr>\n",
       "    <tr>\n",
       "      <th>191</th>\n",
       "      <td>Zambia</td>\n",
       "      <td>32</td>\n",
       "      <td>19</td>\n",
       "      <td>4</td>\n",
       "      <td>2.5</td>\n",
       "      <td>Africa</td>\n",
       "    </tr>\n",
       "    <tr>\n",
       "      <th>192</th>\n",
       "      <td>Zimbabwe</td>\n",
       "      <td>64</td>\n",
       "      <td>18</td>\n",
       "      <td>4</td>\n",
       "      <td>4.7</td>\n",
       "      <td>Africa</td>\n",
       "    </tr>\n",
       "  </tbody>\n",
       "</table>\n",
       "<p>193 rows × 6 columns</p>\n",
       "</div>"
      ],
      "text/plain": [
       "         country  beer_servings  spirit_servings  wine_servings  \\\n",
       "0    Afghanistan              0                0              0   \n",
       "1        Albania             89              132             54   \n",
       "2        Algeria             25                0             14   \n",
       "3        Andorra            245              138            312   \n",
       "4         Angola            217               57             45   \n",
       "..           ...            ...              ...            ...   \n",
       "188    Venezuela            333              100              3   \n",
       "189      Vietnam            111                2              1   \n",
       "190        Yemen              6                0              0   \n",
       "191       Zambia             32               19              4   \n",
       "192     Zimbabwe             64               18              4   \n",
       "\n",
       "     total_litres_of_pure_alcohol      continent  \n",
       "0                             0.0           Asia  \n",
       "1                             4.9         Europe  \n",
       "2                             0.7         Africa  \n",
       "3                            12.4         Europe  \n",
       "4                             5.9         Africa  \n",
       "..                            ...            ...  \n",
       "188                           7.7  South America  \n",
       "189                           2.0           Asia  \n",
       "190                           0.1           Asia  \n",
       "191                           2.5         Africa  \n",
       "192                           4.7         Africa  \n",
       "\n",
       "[193 rows x 6 columns]"
      ]
     },
     "execution_count": 4,
     "metadata": {},
     "output_type": "execute_result"
    }
   ],
   "source": [
    "pd.read_table(url, sep=',')"
   ]
  },
  {
   "cell_type": "code",
   "execution_count": 5,
   "id": "441b8fd5",
   "metadata": {},
   "outputs": [
    {
     "data": {
      "text/html": [
       "<div>\n",
       "<style scoped>\n",
       "    .dataframe tbody tr th:only-of-type {\n",
       "        vertical-align: middle;\n",
       "    }\n",
       "\n",
       "    .dataframe tbody tr th {\n",
       "        vertical-align: top;\n",
       "    }\n",
       "\n",
       "    .dataframe thead th {\n",
       "        text-align: right;\n",
       "    }\n",
       "</style>\n",
       "<table border=\"1\" class=\"dataframe\">\n",
       "  <thead>\n",
       "    <tr style=\"text-align: right;\">\n",
       "      <th></th>\n",
       "      <th>country</th>\n",
       "      <th>beer_servings</th>\n",
       "      <th>spirit_servings</th>\n",
       "      <th>wine_servings</th>\n",
       "      <th>total_litres_of_pure_alcohol</th>\n",
       "      <th>continent</th>\n",
       "    </tr>\n",
       "  </thead>\n",
       "  <tbody>\n",
       "    <tr>\n",
       "      <th>0</th>\n",
       "      <td>Afghanistan</td>\n",
       "      <td>0.0</td>\n",
       "      <td>0.0</td>\n",
       "      <td>0.0</td>\n",
       "      <td>0.0</td>\n",
       "      <td>Asia</td>\n",
       "    </tr>\n",
       "    <tr>\n",
       "      <th>1</th>\n",
       "      <td>Albania</td>\n",
       "      <td>89.0</td>\n",
       "      <td>132.0</td>\n",
       "      <td>54.0</td>\n",
       "      <td>4.9</td>\n",
       "      <td>Europe</td>\n",
       "    </tr>\n",
       "    <tr>\n",
       "      <th>2</th>\n",
       "      <td>Algeria</td>\n",
       "      <td>25.0</td>\n",
       "      <td>0.0</td>\n",
       "      <td>14.0</td>\n",
       "      <td>0.7</td>\n",
       "      <td>Africa</td>\n",
       "    </tr>\n",
       "    <tr>\n",
       "      <th>3</th>\n",
       "      <td>Andorra</td>\n",
       "      <td>245.0</td>\n",
       "      <td>138.0</td>\n",
       "      <td>312.0</td>\n",
       "      <td>12.4</td>\n",
       "      <td>Europe</td>\n",
       "    </tr>\n",
       "    <tr>\n",
       "      <th>4</th>\n",
       "      <td>Angola</td>\n",
       "      <td>217.0</td>\n",
       "      <td>57.0</td>\n",
       "      <td>45.0</td>\n",
       "      <td>5.9</td>\n",
       "      <td>Africa</td>\n",
       "    </tr>\n",
       "  </tbody>\n",
       "</table>\n",
       "</div>"
      ],
      "text/plain": [
       "       country  beer_servings  spirit_servings  wine_servings  \\\n",
       "0  Afghanistan            0.0              0.0            0.0   \n",
       "1      Albania           89.0            132.0           54.0   \n",
       "2      Algeria           25.0              0.0           14.0   \n",
       "3      Andorra          245.0            138.0          312.0   \n",
       "4       Angola          217.0             57.0           45.0   \n",
       "\n",
       "   total_litres_of_pure_alcohol continent  \n",
       "0                           0.0      Asia  \n",
       "1                           4.9    Europe  \n",
       "2                           0.7    Africa  \n",
       "3                          12.4    Europe  \n",
       "4                           5.9    Africa  "
      ]
     },
     "execution_count": 5,
     "metadata": {},
     "output_type": "execute_result"
    }
   ],
   "source": [
    "data = pd.read_csv(r\"D:\\Data\\CSV\\beer-servings.csv\", index_col='Unnamed: 0')\n",
    "data.head()"
   ]
  },
  {
   "cell_type": "code",
   "execution_count": 6,
   "id": "e01e8c40",
   "metadata": {},
   "outputs": [
    {
     "data": {
      "text/plain": [
       "country                         0\n",
       "beer_servings                   8\n",
       "spirit_servings                 8\n",
       "wine_servings                   6\n",
       "total_litres_of_pure_alcohol    1\n",
       "continent                       0\n",
       "dtype: int64"
      ]
     },
     "execution_count": 6,
     "metadata": {},
     "output_type": "execute_result"
    }
   ],
   "source": [
    "data.isna().sum()"
   ]
  },
  {
   "cell_type": "code",
   "execution_count": 7,
   "id": "912e511e",
   "metadata": {},
   "outputs": [
    {
     "data": {
      "image/png": "[encoded data removed]",
      "text/plain": [
       "<Figure size 1440x1080 with 4 Axes>"
      ]
     },
     "metadata": {
      "needs_background": "light"
     },
     "output_type": "display_data"
    }
   ],
   "source": [
    "freqgraph = data.select_dtypes(include=['float'])\n",
    "freqgraph.hist(figsize=(20,15))\n",
    "plt.show()"
   ]
  },
  {
   "cell_type": "code",
   "execution_count": 8,
   "id": "28d852b3",
   "metadata": {},
   "outputs": [
    {
     "data": {
      "text/plain": [
       "Index(['country', 'beer_servings', 'spirit_servings', 'wine_servings',\n",
       "       'total_litres_of_pure_alcohol', 'continent'],\n",
       "      dtype='object')"
      ]
     },
     "execution_count": 8,
     "metadata": {},
     "output_type": "execute_result"
    }
   ],
   "source": [
    "data.columns"
   ]
  },
  {
   "cell_type": "code",
   "execution_count": 9,
   "id": "f99dac1c",
   "metadata": {},
   "outputs": [],
   "source": [
    "data['beer_servings'] = data['beer_servings'].fillna(data['beer_servings'].median())"
   ]
  },
  {
   "cell_type": "code",
   "execution_count": 10,
   "id": "a8c1a51f",
   "metadata": {},
   "outputs": [
    {
     "data": {
      "text/plain": [
       "0"
      ]
     },
     "execution_count": 10,
     "metadata": {},
     "output_type": "execute_result"
    }
   ],
   "source": [
    "data['beer_servings'].isna().sum()"
   ]
  },
  {
   "cell_type": "code",
   "execution_count": 11,
   "id": "786dce42",
   "metadata": {},
   "outputs": [],
   "source": [
    "for i in [ 'spirit_servings', 'wine_servings',\n",
    "       'total_litres_of_pure_alcohol']:\n",
    "    data[i] = data[i].fillna(data[i].median())"
   ]
  },
  {
   "cell_type": "code",
   "execution_count": 12,
   "id": "47d60fab",
   "metadata": {},
   "outputs": [
    {
     "data": {
      "text/plain": [
       "country                         0\n",
       "beer_servings                   0\n",
       "spirit_servings                 0\n",
       "wine_servings                   0\n",
       "total_litres_of_pure_alcohol    0\n",
       "continent                       0\n",
       "dtype: int64"
      ]
     },
     "execution_count": 12,
     "metadata": {},
     "output_type": "execute_result"
    }
   ],
   "source": [
    "data.isnull().sum()"
   ]
  },
  {
   "cell_type": "code",
   "execution_count": null,
   "id": "4ec87882",
   "metadata": {},
   "outputs": [],
   "source": []
  },
  {
   "cell_type": "markdown",
   "id": "c24fa587",
   "metadata": {},
   "source": [
    "## Managing Outliers"
   ]
  },
  {
   "cell_type": "markdown",
   "id": "c03de231",
   "metadata": {},
   "source": [
    "### Beer servings"
   ]
  },
  {
   "cell_type": "code",
   "execution_count": 13,
   "id": "77824101",
   "metadata": {},
   "outputs": [
    {
     "data": {
      "image/png": "[encoded data removed]",
      "text/plain": [
       "<Figure size 432x288 with 1 Axes>"
      ]
     },
     "metadata": {
      "needs_background": "light"
     },
     "output_type": "display_data"
    }
   ],
   "source": [
    "plt.boxplot(data['beer_servings'])\n",
    "plt.title('Boxplot of Beer Servings Column');"
   ]
  },
  {
   "cell_type": "code",
   "execution_count": 14,
   "id": "4ebaa712",
   "metadata": {},
   "outputs": [],
   "source": [
    "Qb1 = np.percentile(data['beer_servings'], 25, interpolation='midpoint')\n",
    "Qb2 = np.percentile(data['beer_servings'], 50, interpolation='midpoint')\n",
    "Qb3 = np.percentile(data['beer_servings'], 75, interpolation='midpoint')"
   ]
  },
  {
   "cell_type": "code",
   "execution_count": 15,
   "id": "b4da17af",
   "metadata": {},
   "outputs": [
    {
     "name": "stdout",
     "output_type": "stream",
     "text": [
      "21.0\n",
      "76.0\n",
      "171.0\n"
     ]
    }
   ],
   "source": [
    "print(Qb1)\n",
    "print(Qb2)\n",
    "print(Qb3)"
   ]
  },
  {
   "cell_type": "code",
   "execution_count": 16,
   "id": "50d82dea",
   "metadata": {},
   "outputs": [
    {
     "data": {
      "text/plain": [
       "76.0"
      ]
     },
     "execution_count": 16,
     "metadata": {},
     "output_type": "execute_result"
    }
   ],
   "source": [
    "data['beer_servings'].median()"
   ]
  },
  {
   "cell_type": "code",
   "execution_count": 17,
   "id": "98e4c84f",
   "metadata": {},
   "outputs": [
    {
     "name": "stdout",
     "output_type": "stream",
     "text": [
      "150.0\n"
     ]
    }
   ],
   "source": [
    "IQRb = Qb3 - Qb1\n",
    "print(IQRb)"
   ]
  },
  {
   "cell_type": "code",
   "execution_count": 18,
   "id": "1067d32d",
   "metadata": {},
   "outputs": [
    {
     "name": "stdout",
     "output_type": "stream",
     "text": [
      "-204.0\n",
      "396.0\n"
     ]
    }
   ],
   "source": [
    "low_lim_b = Qb1 - 1.5*IQRb\n",
    "up_lim_b = Qb3 + 1.5*IQRb\n",
    "print(low_lim_b)\n",
    "print(up_lim_b)"
   ]
  },
  {
   "cell_type": "code",
   "execution_count": 19,
   "id": "219fe342",
   "metadata": {},
   "outputs": [],
   "source": [
    "outlier_b = []\n",
    "for x in data['beer_servings']:\n",
    "    if ((x>up_lim_b) or (x<low_lim_b)):\n",
    "        outlier_b.append(x)\n",
    "        "
   ]
  },
  {
   "cell_type": "code",
   "execution_count": 20,
   "id": "f95a12c4",
   "metadata": {},
   "outputs": [
    {
     "data": {
      "text/plain": [
       "[]"
      ]
     },
     "execution_count": 20,
     "metadata": {},
     "output_type": "execute_result"
    }
   ],
   "source": [
    "outlier_b"
   ]
  },
  {
   "cell_type": "markdown",
   "id": "dcd6e67f",
   "metadata": {},
   "source": [
    "#### That is No outliers for beer servings"
   ]
  },
  {
   "cell_type": "code",
   "execution_count": null,
   "id": "791303a8",
   "metadata": {},
   "outputs": [],
   "source": []
  },
  {
   "cell_type": "markdown",
   "id": "1ab834ec",
   "metadata": {},
   "source": [
    "### Spirit servings"
   ]
  },
  {
   "cell_type": "code",
   "execution_count": 21,
   "id": "694544b2",
   "metadata": {},
   "outputs": [
    {
     "data": {
      "image/png": "[encoded data removed]",
      "text/plain": [
       "<Figure size 432x288 with 1 Axes>"
      ]
     },
     "metadata": {
      "needs_background": "light"
     },
     "output_type": "display_data"
    }
   ],
   "source": [
    "plt.boxplot(data['spirit_servings'])\n",
    "plt.title('Boxplot of Spirit Servings Column');"
   ]
  },
  {
   "cell_type": "code",
   "execution_count": 22,
   "id": "e812a933",
   "metadata": {},
   "outputs": [],
   "source": [
    "Qs1 = np.percentile(data['spirit_servings'], 25, interpolation='midpoint')\n",
    "Qs2 = np.percentile(data['spirit_servings'], 50, interpolation='midpoint')\n",
    "Qs3 = np.percentile(data['spirit_servings'], 75, interpolation='midpoint')"
   ]
  },
  {
   "cell_type": "code",
   "execution_count": 23,
   "id": "d2d36853",
   "metadata": {},
   "outputs": [
    {
     "name": "stdout",
     "output_type": "stream",
     "text": [
      "5.0\n",
      "60.0\n",
      "128.0\n"
     ]
    }
   ],
   "source": [
    "print(Qs1)\n",
    "print(Qs2)\n",
    "print(Qs3)"
   ]
  },
  {
   "cell_type": "code",
   "execution_count": 24,
   "id": "46296c0b",
   "metadata": {},
   "outputs": [
    {
     "data": {
      "text/plain": [
       "60.0"
      ]
     },
     "execution_count": 24,
     "metadata": {},
     "output_type": "execute_result"
    }
   ],
   "source": [
    "data['spirit_servings'].median()"
   ]
  },
  {
   "cell_type": "code",
   "execution_count": 25,
   "id": "406c3314",
   "metadata": {},
   "outputs": [
    {
     "name": "stdout",
     "output_type": "stream",
     "text": [
      "123.0\n"
     ]
    }
   ],
   "source": [
    "IQRs = Qs3 - Qs1\n",
    "print(IQRs)"
   ]
  },
  {
   "cell_type": "code",
   "execution_count": 26,
   "id": "794e05ae",
   "metadata": {},
   "outputs": [
    {
     "name": "stdout",
     "output_type": "stream",
     "text": [
      "-179.5\n",
      "312.5\n"
     ]
    }
   ],
   "source": [
    "low_lim_s = Qs1 - 1.5*IQRs\n",
    "up_lim_s = Qs3 + 1.5*IQRs\n",
    "print(low_lim_s)\n",
    "print(up_lim_s)"
   ]
  },
  {
   "cell_type": "code",
   "execution_count": 27,
   "id": "d118fba3",
   "metadata": {},
   "outputs": [],
   "source": [
    "outlier_s = []\n",
    "for x in data['spirit_servings']:\n",
    "    if ((x>up_lim_s) or (x<low_lim_s)):\n",
    "        outlier_s.append(x)"
   ]
  },
  {
   "cell_type": "code",
   "execution_count": 28,
   "id": "06c3bf25",
   "metadata": {},
   "outputs": [
    {
     "data": {
      "text/plain": [
       "[373.0, 438.0, 326.0, 326.0, 315.0]"
      ]
     },
     "execution_count": 28,
     "metadata": {},
     "output_type": "execute_result"
    }
   ],
   "source": [
    "outlier_s"
   ]
  },
  {
   "cell_type": "markdown",
   "id": "302219ed",
   "metadata": {},
   "source": [
    "#### There are outliers for spirit servings"
   ]
  },
  {
   "cell_type": "code",
   "execution_count": null,
   "id": "d1b7554b",
   "metadata": {},
   "outputs": [],
   "source": []
  },
  {
   "cell_type": "markdown",
   "id": "d0f228c2",
   "metadata": {},
   "source": [
    "### Wine Servings"
   ]
  },
  {
   "cell_type": "code",
   "execution_count": 41,
   "id": "3ca14931",
   "metadata": {},
   "outputs": [
    {
     "data": {
      "image/png": "[encoded data removed]",
      "text/plain": [
       "<Figure size 432x288 with 1 Axes>"
      ]
     },
     "metadata": {
      "needs_background": "light"
     },
     "output_type": "display_data"
    }
   ],
   "source": [
    "plt.boxplot(data['wine_servings'])\n",
    "plt.title('Boxplot of wine Servings Column');"
   ]
  },
  {
   "cell_type": "code",
   "execution_count": 42,
   "id": "3d9ab633",
   "metadata": {},
   "outputs": [],
   "source": [
    "Qw1 = np.percentile(data['wine_servings'], 25, interpolation='midpoint')\n",
    "Qw2 = np.percentile(data['wine_servings'], 50, interpolation='midpoint')\n",
    "Qw3 = np.percentile(data['wine_servings'], 75, interpolation='midpoint')"
   ]
  },
  {
   "cell_type": "code",
   "execution_count": 43,
   "id": "b18ee6d6",
   "metadata": {},
   "outputs": [
    {
     "name": "stdout",
     "output_type": "stream",
     "text": [
      "1.0\n",
      "9.0\n",
      "59.0\n"
     ]
    }
   ],
   "source": [
    "print(Qw1)\n",
    "print(Qw2)\n",
    "print(Qw3)"
   ]
  },
  {
   "cell_type": "code",
   "execution_count": 38,
   "id": "6f4ca2ae",
   "metadata": {},
   "outputs": [
    {
     "data": {
      "text/plain": [
       "9.0"
      ]
     },
     "execution_count": 38,
     "metadata": {},
     "output_type": "execute_result"
    }
   ],
   "source": [
    "data['wine_servings'].median()"
   ]
  },
  {
   "cell_type": "code",
   "execution_count": 39,
   "id": "80b5f465",
   "metadata": {},
   "outputs": [
    {
     "name": "stdout",
     "output_type": "stream",
     "text": [
      "58.0\n"
     ]
    }
   ],
   "source": [
    "IQRw = Qw3 - Qw1\n",
    "print(IQRw)"
   ]
  },
  {
   "cell_type": "code",
   "execution_count": 40,
   "id": "2af49ad9",
   "metadata": {},
   "outputs": [
    {
     "name": "stdout",
     "output_type": "stream",
     "text": [
      "-82.0\n",
      "215.0\n"
     ]
    }
   ],
   "source": [
    "low_lim_w = Qs1 - 1.5*IQRw\n",
    "up_lim_w = Qs3 + 1.5*IQRw\n",
    "print(low_lim_w)\n",
    "print(up_lim_w)"
   ]
  },
  {
   "cell_type": "code",
   "execution_count": 44,
   "id": "3aa36b35",
   "metadata": {},
   "outputs": [],
   "source": [
    "outlier_w = []\n",
    "for x in data['spirit_servings']:\n",
    "    if ((x>up_lim_w) or (x<low_lim_w)):\n",
    "        outlier_w.append(x)"
   ]
  },
  {
   "cell_type": "code",
   "execution_count": 46,
   "id": "089d2c0a",
   "metadata": {},
   "outputs": [
    {
     "data": {
      "text/plain": [
       "[373.0,\n",
       " 252.0,\n",
       " 254.0,\n",
       " 286.0,\n",
       " 438.0,\n",
       " 302.0,\n",
       " 326.0,\n",
       " 246.0,\n",
       " 216.0,\n",
       " 244.0,\n",
       " 226.0,\n",
       " 326.0,\n",
       " 315.0,\n",
       " 221.0,\n",
       " 293.0,\n",
       " 258.0,\n",
       " 237.0]"
      ]
     },
     "execution_count": 46,
     "metadata": {},
     "output_type": "execute_result"
    }
   ],
   "source": [
    "outlier_w"
   ]
  },
  {
   "cell_type": "markdown",
   "id": "542dc4fe",
   "metadata": {},
   "source": [
    "#### These are the outliers of wine servings"
   ]
  },
  {
   "cell_type": "code",
   "execution_count": null,
   "id": "63b27eb2",
   "metadata": {},
   "outputs": [],
   "source": []
  },
  {
   "cell_type": "markdown",
   "id": "b64e8774",
   "metadata": {},
   "source": [
    "### Total litres of pure alcohol"
   ]
  },
  {
   "cell_type": "code",
   "execution_count": 54,
   "id": "189c20db",
   "metadata": {},
   "outputs": [
    {
     "data": {
      "image/png": "[encoded data removed]",
      "text/plain": [
       "<Figure size 432x288 with 1 Axes>"
      ]
     },
     "metadata": {
      "needs_background": "light"
     },
     "output_type": "display_data"
    }
   ],
   "source": [
    "plt.boxplot(data['total_litres_of_pure_alcohol'])\n",
    "plt.title('Boxplot of total litres of pure alcohol Servings Column');"
   ]
  },
  {
   "cell_type": "code",
   "execution_count": 47,
   "id": "3c500638",
   "metadata": {},
   "outputs": [],
   "source": [
    "Qt1 = np.percentile(data['total_litres_of_pure_alcohol'], 25, interpolation='midpoint')\n",
    "Qt2 = np.percentile(data['total_litres_of_pure_alcohol'], 50, interpolation='midpoint')\n",
    "Qt3 = np.percentile(data['total_litres_of_pure_alcohol'], 75, interpolation='midpoint')"
   ]
  },
  {
   "cell_type": "code",
   "execution_count": 48,
   "id": "26d9deb1",
   "metadata": {},
   "outputs": [
    {
     "name": "stdout",
     "output_type": "stream",
     "text": [
      "1.3\n",
      "4.25\n",
      "7.2\n"
     ]
    }
   ],
   "source": [
    "print(Qt1)\n",
    "print(Qt2)\n",
    "print(Qt3)"
   ]
  },
  {
   "cell_type": "code",
   "execution_count": 49,
   "id": "9fd6c0b2",
   "metadata": {},
   "outputs": [
    {
     "data": {
      "text/plain": [
       "4.25"
      ]
     },
     "execution_count": 49,
     "metadata": {},
     "output_type": "execute_result"
    }
   ],
   "source": [
    "data['total_litres_of_pure_alcohol'].median()"
   ]
  },
  {
   "cell_type": "code",
   "execution_count": 50,
   "id": "27326c16",
   "metadata": {},
   "outputs": [
    {
     "name": "stdout",
     "output_type": "stream",
     "text": [
      "5.9\n"
     ]
    }
   ],
   "source": [
    "IQRt = Qt3 - Qt1\n",
    "print(IQRt)"
   ]
  },
  {
   "cell_type": "code",
   "execution_count": 51,
   "id": "b1bf1d04",
   "metadata": {},
   "outputs": [
    {
     "name": "stdout",
     "output_type": "stream",
     "text": [
      "-3.8500000000000014\n",
      "136.85\n"
     ]
    }
   ],
   "source": [
    "low_lim_t = Qs1 - 1.5*IQRt\n",
    "up_lim_t = Qs3 + 1.5*IQRt\n",
    "print(low_lim_t)\n",
    "print(up_lim_t)"
   ]
  },
  {
   "cell_type": "code",
   "execution_count": 52,
   "id": "e3b57e75",
   "metadata": {},
   "outputs": [],
   "source": [
    "outlier_t = []\n",
    "for x in data['total_litres_of_pure_alcohol']:\n",
    "    if ((x>up_lim_t) or (x<low_lim_t)):\n",
    "        outlier_t.append(x)"
   ]
  },
  {
   "cell_type": "code",
   "execution_count": 53,
   "id": "74e9aca3",
   "metadata": {},
   "outputs": [
    {
     "data": {
      "text/plain": [
       "[]"
      ]
     },
     "execution_count": 53,
     "metadata": {},
     "output_type": "execute_result"
    }
   ],
   "source": [
    "outlier_t"
   ]
  },
  {
   "cell_type": "markdown",
   "id": "a6e9dbf1",
   "metadata": {},
   "source": [
    "#### There are no outliers in Total litres of pure alcohol"
   ]
  },
  {
   "cell_type": "code",
   "execution_count": null,
   "id": "bd363aba",
   "metadata": {},
   "outputs": [],
   "source": []
  }
 ],
 "metadata": {
  "kernelspec": {
   "display_name": "Python 3 (ipykernel)",
   "language": "python",
   "name": "python3"
  },
  "language_info": {
   "codemirror_mode": {
    "name": "ipython",
    "version": 3
   },
   "file_extension": ".py",
   "mimetype": "text/x-python",
   "name": "python",
   "nbconvert_exporter": "python",
   "pygments_lexer": "ipython3",
   "version": "3.9.12"
  }
 },
 "nbformat": 4,
 "nbformat_minor": 5
}
