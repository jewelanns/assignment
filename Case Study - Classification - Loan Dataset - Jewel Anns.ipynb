{
 "cells": [
  {
   "cell_type": "code",
   "execution_count": 1,
   "id": "d5692ad1",
   "metadata": {},
   "outputs": [],
   "source": [
    "#importing libraries\n",
    "import pandas as pd\n",
    "import numpy as np\n",
    "import seaborn as sns\n",
    "import matplotlib.pyplot as plt"
   ]
  },
  {
   "cell_type": "code",
   "execution_count": 2,
   "id": "1ab60d53",
   "metadata": {},
   "outputs": [
    {
     "data": {
      "text/html": [
       "<div>\n",
       "<style scoped>\n",
       "    .dataframe tbody tr th:only-of-type {\n",
       "        vertical-align: middle;\n",
       "    }\n",
       "\n",
       "    .dataframe tbody tr th {\n",
       "        vertical-align: top;\n",
       "    }\n",
       "\n",
       "    .dataframe thead th {\n",
       "        text-align: right;\n",
       "    }\n",
       "</style>\n",
       "<table border=\"1\" class=\"dataframe\">\n",
       "  <thead>\n",
       "    <tr style=\"text-align: right;\">\n",
       "      <th></th>\n",
       "      <th>loan_id</th>\n",
       "      <th>source</th>\n",
       "      <th>financial_institution</th>\n",
       "      <th>interest_rate</th>\n",
       "      <th>unpaid_principal_bal</th>\n",
       "      <th>loan_term</th>\n",
       "      <th>origination_date</th>\n",
       "      <th>first_payment_date</th>\n",
       "      <th>loan_to_value</th>\n",
       "      <th>number_of_borrowers</th>\n",
       "      <th>...</th>\n",
       "      <th>m4</th>\n",
       "      <th>m5</th>\n",
       "      <th>m6</th>\n",
       "      <th>m7</th>\n",
       "      <th>m8</th>\n",
       "      <th>m9</th>\n",
       "      <th>m10</th>\n",
       "      <th>m11</th>\n",
       "      <th>m12</th>\n",
       "      <th>m13</th>\n",
       "    </tr>\n",
       "  </thead>\n",
       "  <tbody>\n",
       "    <tr>\n",
       "      <th>0</th>\n",
       "      <td>268055008619</td>\n",
       "      <td>Z</td>\n",
       "      <td>Turner, Baldwin and Rhodes</td>\n",
       "      <td>4.250</td>\n",
       "      <td>214000</td>\n",
       "      <td>360</td>\n",
       "      <td>2012-03-01</td>\n",
       "      <td>05/2012</td>\n",
       "      <td>95</td>\n",
       "      <td>1.0</td>\n",
       "      <td>...</td>\n",
       "      <td>0</td>\n",
       "      <td>0</td>\n",
       "      <td>0</td>\n",
       "      <td>1</td>\n",
       "      <td>0</td>\n",
       "      <td>0</td>\n",
       "      <td>0</td>\n",
       "      <td>0</td>\n",
       "      <td>0</td>\n",
       "      <td>1</td>\n",
       "    </tr>\n",
       "    <tr>\n",
       "      <th>1</th>\n",
       "      <td>672831657627</td>\n",
       "      <td>Y</td>\n",
       "      <td>Swanson, Newton and Miller</td>\n",
       "      <td>4.875</td>\n",
       "      <td>144000</td>\n",
       "      <td>360</td>\n",
       "      <td>2012-01-01</td>\n",
       "      <td>03/2012</td>\n",
       "      <td>72</td>\n",
       "      <td>1.0</td>\n",
       "      <td>...</td>\n",
       "      <td>0</td>\n",
       "      <td>0</td>\n",
       "      <td>0</td>\n",
       "      <td>0</td>\n",
       "      <td>0</td>\n",
       "      <td>0</td>\n",
       "      <td>0</td>\n",
       "      <td>1</td>\n",
       "      <td>0</td>\n",
       "      <td>1</td>\n",
       "    </tr>\n",
       "    <tr>\n",
       "      <th>2</th>\n",
       "      <td>742515242108</td>\n",
       "      <td>Z</td>\n",
       "      <td>Thornton-Davis</td>\n",
       "      <td>3.250</td>\n",
       "      <td>366000</td>\n",
       "      <td>180</td>\n",
       "      <td>2012-01-01</td>\n",
       "      <td>03/2012</td>\n",
       "      <td>49</td>\n",
       "      <td>1.0</td>\n",
       "      <td>...</td>\n",
       "      <td>0</td>\n",
       "      <td>0</td>\n",
       "      <td>0</td>\n",
       "      <td>0</td>\n",
       "      <td>0</td>\n",
       "      <td>0</td>\n",
       "      <td>0</td>\n",
       "      <td>0</td>\n",
       "      <td>0</td>\n",
       "      <td>1</td>\n",
       "    </tr>\n",
       "    <tr>\n",
       "      <th>3</th>\n",
       "      <td>601385667462</td>\n",
       "      <td>X</td>\n",
       "      <td>OTHER</td>\n",
       "      <td>4.750</td>\n",
       "      <td>135000</td>\n",
       "      <td>360</td>\n",
       "      <td>2012-02-01</td>\n",
       "      <td>04/2012</td>\n",
       "      <td>46</td>\n",
       "      <td>2.0</td>\n",
       "      <td>...</td>\n",
       "      <td>0</td>\n",
       "      <td>0</td>\n",
       "      <td>0</td>\n",
       "      <td>0</td>\n",
       "      <td>0</td>\n",
       "      <td>1</td>\n",
       "      <td>1</td>\n",
       "      <td>1</td>\n",
       "      <td>1</td>\n",
       "      <td>1</td>\n",
       "    </tr>\n",
       "    <tr>\n",
       "      <th>4</th>\n",
       "      <td>273870029961</td>\n",
       "      <td>X</td>\n",
       "      <td>OTHER</td>\n",
       "      <td>4.750</td>\n",
       "      <td>124000</td>\n",
       "      <td>360</td>\n",
       "      <td>2012-02-01</td>\n",
       "      <td>04/2012</td>\n",
       "      <td>80</td>\n",
       "      <td>1.0</td>\n",
       "      <td>...</td>\n",
       "      <td>3</td>\n",
       "      <td>4</td>\n",
       "      <td>5</td>\n",
       "      <td>6</td>\n",
       "      <td>7</td>\n",
       "      <td>8</td>\n",
       "      <td>9</td>\n",
       "      <td>10</td>\n",
       "      <td>11</td>\n",
       "      <td>1</td>\n",
       "    </tr>\n",
       "  </tbody>\n",
       "</table>\n",
       "<p>5 rows × 29 columns</p>\n",
       "</div>"
      ],
      "text/plain": [
       "        loan_id source       financial_institution  interest_rate  \\\n",
       "0  268055008619      Z  Turner, Baldwin and Rhodes          4.250   \n",
       "1  672831657627      Y  Swanson, Newton and Miller          4.875   \n",
       "2  742515242108      Z              Thornton-Davis          3.250   \n",
       "3  601385667462      X                       OTHER          4.750   \n",
       "4  273870029961      X                       OTHER          4.750   \n",
       "\n",
       "   unpaid_principal_bal  loan_term origination_date first_payment_date  \\\n",
       "0                214000        360       2012-03-01            05/2012   \n",
       "1                144000        360       2012-01-01            03/2012   \n",
       "2                366000        180       2012-01-01            03/2012   \n",
       "3                135000        360       2012-02-01            04/2012   \n",
       "4                124000        360       2012-02-01            04/2012   \n",
       "\n",
       "   loan_to_value  number_of_borrowers  ...  m4  m5 m6  m7  m8  m9  m10  m11  \\\n",
       "0             95                  1.0  ...   0   0  0   1   0   0    0    0   \n",
       "1             72                  1.0  ...   0   0  0   0   0   0    0    1   \n",
       "2             49                  1.0  ...   0   0  0   0   0   0    0    0   \n",
       "3             46                  2.0  ...   0   0  0   0   0   1    1    1   \n",
       "4             80                  1.0  ...   3   4  5   6   7   8    9   10   \n",
       "\n",
       "   m12  m13  \n",
       "0    0    1  \n",
       "1    0    1  \n",
       "2    0    1  \n",
       "3    1    1  \n",
       "4   11    1  \n",
       "\n",
       "[5 rows x 29 columns]"
      ]
     },
     "execution_count": 2,
     "metadata": {},
     "output_type": "execute_result"
    }
   ],
   "source": [
    "# importing dataset\n",
    "data = pd.read_csv(\"D:\\Data\\CSV\\loan_dataset.csv\")\n",
    "data.head()"
   ]
  },
  {
   "cell_type": "code",
   "execution_count": 3,
   "id": "990a09a9",
   "metadata": {},
   "outputs": [
    {
     "data": {
      "text/plain": [
       "(116058, 29)"
      ]
     },
     "execution_count": 3,
     "metadata": {},
     "output_type": "execute_result"
    }
   ],
   "source": [
    "data.shape"
   ]
  },
  {
   "cell_type": "code",
   "execution_count": 4,
   "id": "5d32ce40",
   "metadata": {},
   "outputs": [
    {
     "data": {
      "text/html": [
       "<div>\n",
       "<style scoped>\n",
       "    .dataframe tbody tr th:only-of-type {\n",
       "        vertical-align: middle;\n",
       "    }\n",
       "\n",
       "    .dataframe tbody tr th {\n",
       "        vertical-align: top;\n",
       "    }\n",
       "\n",
       "    .dataframe thead th {\n",
       "        text-align: right;\n",
       "    }\n",
       "</style>\n",
       "<table border=\"1\" class=\"dataframe\">\n",
       "  <thead>\n",
       "    <tr style=\"text-align: right;\">\n",
       "      <th></th>\n",
       "      <th>loan_id</th>\n",
       "      <th>interest_rate</th>\n",
       "      <th>unpaid_principal_bal</th>\n",
       "      <th>loan_term</th>\n",
       "      <th>loan_to_value</th>\n",
       "      <th>number_of_borrowers</th>\n",
       "      <th>debt_to_income_ratio</th>\n",
       "      <th>borrower_credit_score</th>\n",
       "      <th>insurance_percent</th>\n",
       "      <th>co-borrower_credit_score</th>\n",
       "      <th>...</th>\n",
       "      <th>m4</th>\n",
       "      <th>m5</th>\n",
       "      <th>m6</th>\n",
       "      <th>m7</th>\n",
       "      <th>m8</th>\n",
       "      <th>m9</th>\n",
       "      <th>m10</th>\n",
       "      <th>m11</th>\n",
       "      <th>m12</th>\n",
       "      <th>m13</th>\n",
       "    </tr>\n",
       "  </thead>\n",
       "  <tbody>\n",
       "    <tr>\n",
       "      <th>count</th>\n",
       "      <td>1.160580e+05</td>\n",
       "      <td>116058.000000</td>\n",
       "      <td>1.160580e+05</td>\n",
       "      <td>116058.000000</td>\n",
       "      <td>116058.000000</td>\n",
       "      <td>116058.000000</td>\n",
       "      <td>116058.000000</td>\n",
       "      <td>116058.000000</td>\n",
       "      <td>116058.000000</td>\n",
       "      <td>116058.000000</td>\n",
       "      <td>...</td>\n",
       "      <td>116058.000000</td>\n",
       "      <td>116058.000000</td>\n",
       "      <td>116058.000000</td>\n",
       "      <td>116058.000000</td>\n",
       "      <td>116058.000000</td>\n",
       "      <td>116058.000000</td>\n",
       "      <td>116058.000000</td>\n",
       "      <td>116058.000000</td>\n",
       "      <td>116058.000000</td>\n",
       "      <td>116058.000000</td>\n",
       "    </tr>\n",
       "    <tr>\n",
       "      <th>mean</th>\n",
       "      <td>5.494155e+11</td>\n",
       "      <td>3.868961</td>\n",
       "      <td>2.082262e+05</td>\n",
       "      <td>292.280997</td>\n",
       "      <td>67.431939</td>\n",
       "      <td>1.593186</td>\n",
       "      <td>30.742293</td>\n",
       "      <td>769.926778</td>\n",
       "      <td>2.786288</td>\n",
       "      <td>459.611565</td>\n",
       "      <td>...</td>\n",
       "      <td>0.002180</td>\n",
       "      <td>0.003533</td>\n",
       "      <td>0.003421</td>\n",
       "      <td>0.004162</td>\n",
       "      <td>0.004825</td>\n",
       "      <td>0.005359</td>\n",
       "      <td>0.006617</td>\n",
       "      <td>0.007109</td>\n",
       "      <td>0.008065</td>\n",
       "      <td>0.005480</td>\n",
       "    </tr>\n",
       "    <tr>\n",
       "      <th>std</th>\n",
       "      <td>2.597560e+11</td>\n",
       "      <td>0.461020</td>\n",
       "      <td>1.146851e+05</td>\n",
       "      <td>89.762415</td>\n",
       "      <td>17.291719</td>\n",
       "      <td>0.491242</td>\n",
       "      <td>9.730798</td>\n",
       "      <td>42.210706</td>\n",
       "      <td>8.096464</td>\n",
       "      <td>381.946926</td>\n",
       "      <td>...</td>\n",
       "      <td>0.062161</td>\n",
       "      <td>0.082638</td>\n",
       "      <td>0.087553</td>\n",
       "      <td>0.100961</td>\n",
       "      <td>0.113128</td>\n",
       "      <td>0.128242</td>\n",
       "      <td>0.148430</td>\n",
       "      <td>0.162884</td>\n",
       "      <td>0.178128</td>\n",
       "      <td>0.073824</td>\n",
       "    </tr>\n",
       "    <tr>\n",
       "      <th>min</th>\n",
       "      <td>1.000009e+11</td>\n",
       "      <td>2.250000</td>\n",
       "      <td>1.100000e+04</td>\n",
       "      <td>60.000000</td>\n",
       "      <td>6.000000</td>\n",
       "      <td>1.000000</td>\n",
       "      <td>1.000000</td>\n",
       "      <td>0.000000</td>\n",
       "      <td>0.000000</td>\n",
       "      <td>0.000000</td>\n",
       "      <td>...</td>\n",
       "      <td>0.000000</td>\n",
       "      <td>0.000000</td>\n",
       "      <td>0.000000</td>\n",
       "      <td>0.000000</td>\n",
       "      <td>0.000000</td>\n",
       "      <td>0.000000</td>\n",
       "      <td>0.000000</td>\n",
       "      <td>0.000000</td>\n",
       "      <td>0.000000</td>\n",
       "      <td>0.000000</td>\n",
       "    </tr>\n",
       "    <tr>\n",
       "      <th>25%</th>\n",
       "      <td>3.244656e+11</td>\n",
       "      <td>3.500000</td>\n",
       "      <td>1.200000e+05</td>\n",
       "      <td>180.000000</td>\n",
       "      <td>57.000000</td>\n",
       "      <td>1.000000</td>\n",
       "      <td>23.000000</td>\n",
       "      <td>751.000000</td>\n",
       "      <td>0.000000</td>\n",
       "      <td>0.000000</td>\n",
       "      <td>...</td>\n",
       "      <td>0.000000</td>\n",
       "      <td>0.000000</td>\n",
       "      <td>0.000000</td>\n",
       "      <td>0.000000</td>\n",
       "      <td>0.000000</td>\n",
       "      <td>0.000000</td>\n",
       "      <td>0.000000</td>\n",
       "      <td>0.000000</td>\n",
       "      <td>0.000000</td>\n",
       "      <td>0.000000</td>\n",
       "    </tr>\n",
       "    <tr>\n",
       "      <th>50%</th>\n",
       "      <td>5.486239e+11</td>\n",
       "      <td>3.875000</td>\n",
       "      <td>1.830000e+05</td>\n",
       "      <td>360.000000</td>\n",
       "      <td>72.000000</td>\n",
       "      <td>2.000000</td>\n",
       "      <td>31.000000</td>\n",
       "      <td>782.000000</td>\n",
       "      <td>0.000000</td>\n",
       "      <td>740.000000</td>\n",
       "      <td>...</td>\n",
       "      <td>0.000000</td>\n",
       "      <td>0.000000</td>\n",
       "      <td>0.000000</td>\n",
       "      <td>0.000000</td>\n",
       "      <td>0.000000</td>\n",
       "      <td>0.000000</td>\n",
       "      <td>0.000000</td>\n",
       "      <td>0.000000</td>\n",
       "      <td>0.000000</td>\n",
       "      <td>0.000000</td>\n",
       "    </tr>\n",
       "    <tr>\n",
       "      <th>75%</th>\n",
       "      <td>7.743034e+11</td>\n",
       "      <td>4.125000</td>\n",
       "      <td>2.780000e+05</td>\n",
       "      <td>360.000000</td>\n",
       "      <td>80.000000</td>\n",
       "      <td>2.000000</td>\n",
       "      <td>39.000000</td>\n",
       "      <td>800.000000</td>\n",
       "      <td>0.000000</td>\n",
       "      <td>791.000000</td>\n",
       "      <td>...</td>\n",
       "      <td>0.000000</td>\n",
       "      <td>0.000000</td>\n",
       "      <td>0.000000</td>\n",
       "      <td>0.000000</td>\n",
       "      <td>0.000000</td>\n",
       "      <td>0.000000</td>\n",
       "      <td>0.000000</td>\n",
       "      <td>0.000000</td>\n",
       "      <td>0.000000</td>\n",
       "      <td>0.000000</td>\n",
       "    </tr>\n",
       "    <tr>\n",
       "      <th>max</th>\n",
       "      <td>9.999971e+11</td>\n",
       "      <td>6.750000</td>\n",
       "      <td>1.200000e+06</td>\n",
       "      <td>360.000000</td>\n",
       "      <td>97.000000</td>\n",
       "      <td>2.000000</td>\n",
       "      <td>64.000000</td>\n",
       "      <td>840.000000</td>\n",
       "      <td>40.000000</td>\n",
       "      <td>836.000000</td>\n",
       "      <td>...</td>\n",
       "      <td>6.000000</td>\n",
       "      <td>7.000000</td>\n",
       "      <td>8.000000</td>\n",
       "      <td>9.000000</td>\n",
       "      <td>10.000000</td>\n",
       "      <td>11.000000</td>\n",
       "      <td>12.000000</td>\n",
       "      <td>13.000000</td>\n",
       "      <td>14.000000</td>\n",
       "      <td>1.000000</td>\n",
       "    </tr>\n",
       "  </tbody>\n",
       "</table>\n",
       "<p>8 rows × 24 columns</p>\n",
       "</div>"
      ],
      "text/plain": [
       "            loan_id  interest_rate  unpaid_principal_bal      loan_term  \\\n",
       "count  1.160580e+05  116058.000000          1.160580e+05  116058.000000   \n",
       "mean   5.494155e+11       3.868961          2.082262e+05     292.280997   \n",
       "std    2.597560e+11       0.461020          1.146851e+05      89.762415   \n",
       "min    1.000009e+11       2.250000          1.100000e+04      60.000000   \n",
       "25%    3.244656e+11       3.500000          1.200000e+05     180.000000   \n",
       "50%    5.486239e+11       3.875000          1.830000e+05     360.000000   \n",
       "75%    7.743034e+11       4.125000          2.780000e+05     360.000000   \n",
       "max    9.999971e+11       6.750000          1.200000e+06     360.000000   \n",
       "\n",
       "       loan_to_value  number_of_borrowers  debt_to_income_ratio  \\\n",
       "count  116058.000000        116058.000000         116058.000000   \n",
       "mean       67.431939             1.593186             30.742293   \n",
       "std        17.291719             0.491242              9.730798   \n",
       "min         6.000000             1.000000              1.000000   \n",
       "25%        57.000000             1.000000             23.000000   \n",
       "50%        72.000000             2.000000             31.000000   \n",
       "75%        80.000000             2.000000             39.000000   \n",
       "max        97.000000             2.000000             64.000000   \n",
       "\n",
       "       borrower_credit_score  insurance_percent  co-borrower_credit_score  \\\n",
       "count          116058.000000      116058.000000             116058.000000   \n",
       "mean              769.926778           2.786288                459.611565   \n",
       "std                42.210706           8.096464                381.946926   \n",
       "min                 0.000000           0.000000                  0.000000   \n",
       "25%               751.000000           0.000000                  0.000000   \n",
       "50%               782.000000           0.000000                740.000000   \n",
       "75%               800.000000           0.000000                791.000000   \n",
       "max               840.000000          40.000000                836.000000   \n",
       "\n",
       "       ...             m4             m5             m6             m7  \\\n",
       "count  ...  116058.000000  116058.000000  116058.000000  116058.000000   \n",
       "mean   ...       0.002180       0.003533       0.003421       0.004162   \n",
       "std    ...       0.062161       0.082638       0.087553       0.100961   \n",
       "min    ...       0.000000       0.000000       0.000000       0.000000   \n",
       "25%    ...       0.000000       0.000000       0.000000       0.000000   \n",
       "50%    ...       0.000000       0.000000       0.000000       0.000000   \n",
       "75%    ...       0.000000       0.000000       0.000000       0.000000   \n",
       "max    ...       6.000000       7.000000       8.000000       9.000000   \n",
       "\n",
       "                  m8             m9            m10            m11  \\\n",
       "count  116058.000000  116058.000000  116058.000000  116058.000000   \n",
       "mean        0.004825       0.005359       0.006617       0.007109   \n",
       "std         0.113128       0.128242       0.148430       0.162884   \n",
       "min         0.000000       0.000000       0.000000       0.000000   \n",
       "25%         0.000000       0.000000       0.000000       0.000000   \n",
       "50%         0.000000       0.000000       0.000000       0.000000   \n",
       "75%         0.000000       0.000000       0.000000       0.000000   \n",
       "max        10.000000      11.000000      12.000000      13.000000   \n",
       "\n",
       "                 m12            m13  \n",
       "count  116058.000000  116058.000000  \n",
       "mean        0.008065       0.005480  \n",
       "std         0.178128       0.073824  \n",
       "min         0.000000       0.000000  \n",
       "25%         0.000000       0.000000  \n",
       "50%         0.000000       0.000000  \n",
       "75%         0.000000       0.000000  \n",
       "max        14.000000       1.000000  \n",
       "\n",
       "[8 rows x 24 columns]"
      ]
     },
     "execution_count": 4,
     "metadata": {},
     "output_type": "execute_result"
    }
   ],
   "source": [
    "data.describe()"
   ]
  },
  {
   "cell_type": "code",
   "execution_count": 5,
   "id": "bc5a4355",
   "metadata": {},
   "outputs": [
    {
     "data": {
      "text/plain": [
       "loan_id                       int64\n",
       "source                       object\n",
       "financial_institution        object\n",
       "interest_rate               float64\n",
       "unpaid_principal_bal          int64\n",
       "loan_term                     int64\n",
       "origination_date             object\n",
       "first_payment_date           object\n",
       "loan_to_value                 int64\n",
       "number_of_borrowers         float64\n",
       "debt_to_income_ratio        float64\n",
       "borrower_credit_score       float64\n",
       "loan_purpose                 object\n",
       "insurance_percent           float64\n",
       "co-borrower_credit_score    float64\n",
       "insurance_type              float64\n",
       "m1                            int64\n",
       "m2                            int64\n",
       "m3                            int64\n",
       "m4                            int64\n",
       "m5                            int64\n",
       "m6                            int64\n",
       "m7                            int64\n",
       "m8                            int64\n",
       "m9                            int64\n",
       "m10                           int64\n",
       "m11                           int64\n",
       "m12                           int64\n",
       "m13                           int64\n",
       "dtype: object"
      ]
     },
     "execution_count": 5,
     "metadata": {},
     "output_type": "execute_result"
    }
   ],
   "source": [
    "data.dtypes"
   ]
  },
  {
   "cell_type": "code",
   "execution_count": 6,
   "id": "c3baa025",
   "metadata": {},
   "outputs": [
    {
     "data": {
      "text/plain": [
       "<bound method DataFrame.info of              loan_id source       financial_institution  interest_rate  \\\n",
       "0       268055008619      Z  Turner, Baldwin and Rhodes          4.250   \n",
       "1       672831657627      Y  Swanson, Newton and Miller          4.875   \n",
       "2       742515242108      Z              Thornton-Davis          3.250   \n",
       "3       601385667462      X                       OTHER          4.750   \n",
       "4       273870029961      X                       OTHER          4.750   \n",
       "...              ...    ...                         ...            ...   \n",
       "116053  382119962287      Y               Browning-Hart          4.125   \n",
       "116054  582803915466      Z                       OTHER          3.000   \n",
       "116055  837922316947      X                       OTHER          3.875   \n",
       "116056  477343182138      X                       OTHER          4.250   \n",
       "116057  763308490661      Z              Thornton-Davis          3.375   \n",
       "\n",
       "        unpaid_principal_bal  loan_term origination_date first_payment_date  \\\n",
       "0                     214000        360       2012-03-01            05/2012   \n",
       "1                     144000        360       2012-01-01            03/2012   \n",
       "2                     366000        180       2012-01-01            03/2012   \n",
       "3                     135000        360       2012-02-01            04/2012   \n",
       "4                     124000        360       2012-02-01            04/2012   \n",
       "...                      ...        ...              ...                ...   \n",
       "116053                153000        360       2012-02-01            04/2012   \n",
       "116054                150000        120       2012-01-01            03/2012   \n",
       "116055                166000        360       2012-02-01            04/2012   \n",
       "116056                169000        360       2012-02-01            04/2012   \n",
       "116057                252000        180       2012-01-01            03/2012   \n",
       "\n",
       "        loan_to_value  number_of_borrowers  ...  m4  m5 m6  m7  m8  m9  m10  \\\n",
       "0                  95                  1.0  ...   0   0  0   1   0   0    0   \n",
       "1                  72                  1.0  ...   0   0  0   0   0   0    0   \n",
       "2                  49                  1.0  ...   0   0  0   0   0   0    0   \n",
       "3                  46                  2.0  ...   0   0  0   0   0   1    1   \n",
       "4                  80                  1.0  ...   3   4  5   6   7   8    9   \n",
       "...               ...                  ...  ...  ..  .. ..  ..  ..  ..  ...   \n",
       "116053             88                  2.0  ...   0   0  0   0   0   0    0   \n",
       "116054             35                  1.0  ...   0   0  0   0   0   0    0   \n",
       "116055             58                  2.0  ...   0   0  0   0   0   0    0   \n",
       "116056             74                  2.0  ...   0   0  0   0   0   0    0   \n",
       "116057             29                  2.0  ...   0   0  0   0   0   0    0   \n",
       "\n",
       "        m11  m12  m13  \n",
       "0         0    0    1  \n",
       "1         1    0    1  \n",
       "2         0    0    1  \n",
       "3         1    1    1  \n",
       "4        10   11    1  \n",
       "...     ...  ...  ...  \n",
       "116053    0    0    0  \n",
       "116054    0    0    0  \n",
       "116055    0    0    0  \n",
       "116056    0    0    0  \n",
       "116057    0    0    0  \n",
       "\n",
       "[116058 rows x 29 columns]>"
      ]
     },
     "execution_count": 6,
     "metadata": {},
     "output_type": "execute_result"
    }
   ],
   "source": [
    "data.info"
   ]
  },
  {
   "cell_type": "code",
   "execution_count": 7,
   "id": "cffdd429",
   "metadata": {},
   "outputs": [
    {
     "data": {
      "text/plain": [
       "loan_id                     0\n",
       "source                      0\n",
       "financial_institution       0\n",
       "interest_rate               0\n",
       "unpaid_principal_bal        0\n",
       "loan_term                   0\n",
       "origination_date            0\n",
       "first_payment_date          0\n",
       "loan_to_value               0\n",
       "number_of_borrowers         0\n",
       "debt_to_income_ratio        0\n",
       "borrower_credit_score       0\n",
       "loan_purpose                0\n",
       "insurance_percent           0\n",
       "co-borrower_credit_score    0\n",
       "insurance_type              0\n",
       "m1                          0\n",
       "m2                          0\n",
       "m3                          0\n",
       "m4                          0\n",
       "m5                          0\n",
       "m6                          0\n",
       "m7                          0\n",
       "m8                          0\n",
       "m9                          0\n",
       "m10                         0\n",
       "m11                         0\n",
       "m12                         0\n",
       "m13                         0\n",
       "dtype: int64"
      ]
     },
     "execution_count": 7,
     "metadata": {},
     "output_type": "execute_result"
    }
   ],
   "source": [
    "data.isna().sum()"
   ]
  },
  {
   "cell_type": "code",
   "execution_count": 8,
   "id": "d6cb7ec4",
   "metadata": {},
   "outputs": [
    {
     "data": {
      "text/plain": [
       "loan_id                       int64\n",
       "source                       object\n",
       "financial_institution        object\n",
       "interest_rate               float64\n",
       "unpaid_principal_bal          int64\n",
       "loan_term                     int64\n",
       "origination_date             object\n",
       "first_payment_date           object\n",
       "loan_to_value                 int64\n",
       "number_of_borrowers         float64\n",
       "debt_to_income_ratio        float64\n",
       "borrower_credit_score       float64\n",
       "loan_purpose                 object\n",
       "insurance_percent           float64\n",
       "co-borrower_credit_score    float64\n",
       "insurance_type              float64\n",
       "m1                            int64\n",
       "m2                            int64\n",
       "m3                            int64\n",
       "m4                            int64\n",
       "m5                            int64\n",
       "m6                            int64\n",
       "m7                            int64\n",
       "m8                            int64\n",
       "m9                            int64\n",
       "m10                           int64\n",
       "m11                           int64\n",
       "m12                           int64\n",
       "m13                           int64\n",
       "dtype: object"
      ]
     },
     "execution_count": 8,
     "metadata": {},
     "output_type": "execute_result"
    }
   ],
   "source": [
    "data.dtypes"
   ]
  },
  {
   "cell_type": "code",
   "execution_count": 9,
   "id": "a0c3595b",
   "metadata": {},
   "outputs": [
    {
     "data": {
      "text/plain": [
       "3"
      ]
     },
     "execution_count": 9,
     "metadata": {},
     "output_type": "execute_result"
    }
   ],
   "source": [
    "data['source'].nunique()"
   ]
  },
  {
   "cell_type": "code",
   "execution_count": 10,
   "id": "6588b27e",
   "metadata": {},
   "outputs": [
    {
     "data": {
      "text/plain": [
       "19"
      ]
     },
     "execution_count": 10,
     "metadata": {},
     "output_type": "execute_result"
    }
   ],
   "source": [
    "data['financial_institution'].nunique()"
   ]
  },
  {
   "cell_type": "code",
   "execution_count": 11,
   "id": "04fdfa20",
   "metadata": {},
   "outputs": [
    {
     "data": {
      "text/plain": [
       "3"
      ]
     },
     "execution_count": 11,
     "metadata": {},
     "output_type": "execute_result"
    }
   ],
   "source": [
    "data['origination_date'].nunique()"
   ]
  },
  {
   "cell_type": "code",
   "execution_count": 12,
   "id": "5887225f",
   "metadata": {},
   "outputs": [
    {
     "data": {
      "text/plain": [
       "4"
      ]
     },
     "execution_count": 12,
     "metadata": {},
     "output_type": "execute_result"
    }
   ],
   "source": [
    "data['first_payment_date'].nunique()"
   ]
  },
  {
   "cell_type": "code",
   "execution_count": 13,
   "id": "c8cd78b2",
   "metadata": {},
   "outputs": [
    {
     "data": {
      "text/plain": [
       "3"
      ]
     },
     "execution_count": 13,
     "metadata": {},
     "output_type": "execute_result"
    }
   ],
   "source": [
    "data['loan_purpose'].nunique()"
   ]
  },
  {
   "cell_type": "code",
   "execution_count": 14,
   "id": "c404c7f2",
   "metadata": {},
   "outputs": [
    {
     "data": {
      "text/plain": [
       "116058"
      ]
     },
     "execution_count": 14,
     "metadata": {},
     "output_type": "execute_result"
    }
   ],
   "source": [
    "data['loan_id'].nunique()"
   ]
  },
  {
   "cell_type": "code",
   "execution_count": 15,
   "id": "223ad868",
   "metadata": {},
   "outputs": [],
   "source": [
    "# loan_id have all unique values, so we can drop it"
   ]
  },
  {
   "cell_type": "code",
   "execution_count": 16,
   "id": "79641014",
   "metadata": {},
   "outputs": [
    {
     "data": {
      "image/png": "[encoded data removed]",
      "text/plain": [
       "<Figure size 1440x720 with 2 Axes>"
      ]
     },
     "metadata": {
      "needs_background": "light"
     },
     "output_type": "display_data"
    }
   ],
   "source": [
    "# correlation matrix\n",
    "corrmatrix = data.corr()\n",
    "plt.subplots(figsize=(20, 10))\n",
    "sns.heatmap(corrmatrix, annot=True, cmap=\"YlGnBu\");"
   ]
  },
  {
   "cell_type": "code",
   "execution_count": 17,
   "id": "4063f968",
   "metadata": {},
   "outputs": [],
   "source": [
    "# high correlation(i.e., 1) between number_of_borrowers and co-borrower_credit_score\n",
    "# so drop either one"
   ]
  },
  {
   "cell_type": "code",
   "execution_count": 18,
   "id": "4bc1f9a6",
   "metadata": {},
   "outputs": [],
   "source": [
    "df = data.drop(['loan_id','number_of_borrowers'], axis=1)"
   ]
  },
  {
   "cell_type": "code",
   "execution_count": 19,
   "id": "7018eea5",
   "metadata": {},
   "outputs": [
    {
     "data": {
      "text/html": [
       "<div>\n",
       "<style scoped>\n",
       "    .dataframe tbody tr th:only-of-type {\n",
       "        vertical-align: middle;\n",
       "    }\n",
       "\n",
       "    .dataframe tbody tr th {\n",
       "        vertical-align: top;\n",
       "    }\n",
       "\n",
       "    .dataframe thead th {\n",
       "        text-align: right;\n",
       "    }\n",
       "</style>\n",
       "<table border=\"1\" class=\"dataframe\">\n",
       "  <thead>\n",
       "    <tr style=\"text-align: right;\">\n",
       "      <th></th>\n",
       "      <th>source</th>\n",
       "      <th>financial_institution</th>\n",
       "      <th>interest_rate</th>\n",
       "      <th>unpaid_principal_bal</th>\n",
       "      <th>loan_term</th>\n",
       "      <th>origination_date</th>\n",
       "      <th>first_payment_date</th>\n",
       "      <th>loan_to_value</th>\n",
       "      <th>debt_to_income_ratio</th>\n",
       "      <th>borrower_credit_score</th>\n",
       "      <th>...</th>\n",
       "      <th>m4</th>\n",
       "      <th>m5</th>\n",
       "      <th>m6</th>\n",
       "      <th>m7</th>\n",
       "      <th>m8</th>\n",
       "      <th>m9</th>\n",
       "      <th>m10</th>\n",
       "      <th>m11</th>\n",
       "      <th>m12</th>\n",
       "      <th>m13</th>\n",
       "    </tr>\n",
       "  </thead>\n",
       "  <tbody>\n",
       "    <tr>\n",
       "      <th>0</th>\n",
       "      <td>Z</td>\n",
       "      <td>Turner, Baldwin and Rhodes</td>\n",
       "      <td>4.250</td>\n",
       "      <td>214000</td>\n",
       "      <td>360</td>\n",
       "      <td>2012-03-01</td>\n",
       "      <td>05/2012</td>\n",
       "      <td>95</td>\n",
       "      <td>22.0</td>\n",
       "      <td>694.0</td>\n",
       "      <td>...</td>\n",
       "      <td>0</td>\n",
       "      <td>0</td>\n",
       "      <td>0</td>\n",
       "      <td>1</td>\n",
       "      <td>0</td>\n",
       "      <td>0</td>\n",
       "      <td>0</td>\n",
       "      <td>0</td>\n",
       "      <td>0</td>\n",
       "      <td>1</td>\n",
       "    </tr>\n",
       "    <tr>\n",
       "      <th>1</th>\n",
       "      <td>Y</td>\n",
       "      <td>Swanson, Newton and Miller</td>\n",
       "      <td>4.875</td>\n",
       "      <td>144000</td>\n",
       "      <td>360</td>\n",
       "      <td>2012-01-01</td>\n",
       "      <td>03/2012</td>\n",
       "      <td>72</td>\n",
       "      <td>44.0</td>\n",
       "      <td>697.0</td>\n",
       "      <td>...</td>\n",
       "      <td>0</td>\n",
       "      <td>0</td>\n",
       "      <td>0</td>\n",
       "      <td>0</td>\n",
       "      <td>0</td>\n",
       "      <td>0</td>\n",
       "      <td>0</td>\n",
       "      <td>1</td>\n",
       "      <td>0</td>\n",
       "      <td>1</td>\n",
       "    </tr>\n",
       "    <tr>\n",
       "      <th>2</th>\n",
       "      <td>Z</td>\n",
       "      <td>Thornton-Davis</td>\n",
       "      <td>3.250</td>\n",
       "      <td>366000</td>\n",
       "      <td>180</td>\n",
       "      <td>2012-01-01</td>\n",
       "      <td>03/2012</td>\n",
       "      <td>49</td>\n",
       "      <td>33.0</td>\n",
       "      <td>780.0</td>\n",
       "      <td>...</td>\n",
       "      <td>0</td>\n",
       "      <td>0</td>\n",
       "      <td>0</td>\n",
       "      <td>0</td>\n",
       "      <td>0</td>\n",
       "      <td>0</td>\n",
       "      <td>0</td>\n",
       "      <td>0</td>\n",
       "      <td>0</td>\n",
       "      <td>1</td>\n",
       "    </tr>\n",
       "    <tr>\n",
       "      <th>3</th>\n",
       "      <td>X</td>\n",
       "      <td>OTHER</td>\n",
       "      <td>4.750</td>\n",
       "      <td>135000</td>\n",
       "      <td>360</td>\n",
       "      <td>2012-02-01</td>\n",
       "      <td>04/2012</td>\n",
       "      <td>46</td>\n",
       "      <td>44.0</td>\n",
       "      <td>633.0</td>\n",
       "      <td>...</td>\n",
       "      <td>0</td>\n",
       "      <td>0</td>\n",
       "      <td>0</td>\n",
       "      <td>0</td>\n",
       "      <td>0</td>\n",
       "      <td>1</td>\n",
       "      <td>1</td>\n",
       "      <td>1</td>\n",
       "      <td>1</td>\n",
       "      <td>1</td>\n",
       "    </tr>\n",
       "    <tr>\n",
       "      <th>4</th>\n",
       "      <td>X</td>\n",
       "      <td>OTHER</td>\n",
       "      <td>4.750</td>\n",
       "      <td>124000</td>\n",
       "      <td>360</td>\n",
       "      <td>2012-02-01</td>\n",
       "      <td>04/2012</td>\n",
       "      <td>80</td>\n",
       "      <td>43.0</td>\n",
       "      <td>681.0</td>\n",
       "      <td>...</td>\n",
       "      <td>3</td>\n",
       "      <td>4</td>\n",
       "      <td>5</td>\n",
       "      <td>6</td>\n",
       "      <td>7</td>\n",
       "      <td>8</td>\n",
       "      <td>9</td>\n",
       "      <td>10</td>\n",
       "      <td>11</td>\n",
       "      <td>1</td>\n",
       "    </tr>\n",
       "  </tbody>\n",
       "</table>\n",
       "<p>5 rows × 27 columns</p>\n",
       "</div>"
      ],
      "text/plain": [
       "  source       financial_institution  interest_rate  unpaid_principal_bal  \\\n",
       "0      Z  Turner, Baldwin and Rhodes          4.250                214000   \n",
       "1      Y  Swanson, Newton and Miller          4.875                144000   \n",
       "2      Z              Thornton-Davis          3.250                366000   \n",
       "3      X                       OTHER          4.750                135000   \n",
       "4      X                       OTHER          4.750                124000   \n",
       "\n",
       "   loan_term origination_date first_payment_date  loan_to_value  \\\n",
       "0        360       2012-03-01            05/2012             95   \n",
       "1        360       2012-01-01            03/2012             72   \n",
       "2        180       2012-01-01            03/2012             49   \n",
       "3        360       2012-02-01            04/2012             46   \n",
       "4        360       2012-02-01            04/2012             80   \n",
       "\n",
       "   debt_to_income_ratio  borrower_credit_score  ... m4  m5  m6  m7  m8  m9  \\\n",
       "0                  22.0                  694.0  ...  0   0   0   1   0   0   \n",
       "1                  44.0                  697.0  ...  0   0   0   0   0   0   \n",
       "2                  33.0                  780.0  ...  0   0   0   0   0   0   \n",
       "3                  44.0                  633.0  ...  0   0   0   0   0   1   \n",
       "4                  43.0                  681.0  ...  3   4   5   6   7   8   \n",
       "\n",
       "   m10  m11  m12  m13  \n",
       "0    0    0    0    1  \n",
       "1    0    1    0    1  \n",
       "2    0    0    0    1  \n",
       "3    1    1    1    1  \n",
       "4    9   10   11    1  \n",
       "\n",
       "[5 rows x 27 columns]"
      ]
     },
     "execution_count": 19,
     "metadata": {},
     "output_type": "execute_result"
    }
   ],
   "source": [
    "df.head()"
   ]
  },
  {
   "cell_type": "code",
   "execution_count": 20,
   "id": "23882aac",
   "metadata": {},
   "outputs": [],
   "source": [
    "from datetime import datetime"
   ]
  },
  {
   "cell_type": "code",
   "execution_count": 21,
   "id": "e4648f4c",
   "metadata": {},
   "outputs": [
    {
     "data": {
      "text/plain": [
       "0         2012-03-01\n",
       "1         2012-01-01\n",
       "2         2012-01-01\n",
       "3         2012-02-01\n",
       "4         2012-02-01\n",
       "             ...    \n",
       "116053    2012-02-01\n",
       "116054    2012-01-01\n",
       "116055    2012-02-01\n",
       "116056    2012-02-01\n",
       "116057    2012-01-01\n",
       "Name: origination_date, Length: 116058, dtype: object"
      ]
     },
     "execution_count": 21,
     "metadata": {},
     "output_type": "execute_result"
    }
   ],
   "source": [
    "df['origination_date']"
   ]
  },
  {
   "cell_type": "code",
   "execution_count": 22,
   "id": "59f9f851",
   "metadata": {},
   "outputs": [],
   "source": [
    "df['origination_date'] = df['origination_date'].apply(lambda x: datetime.strptime(x, \"%Y-%m-%d\"))\n",
    "df['org_date_month'] = df['origination_date'].apply(lambda x:x.month)"
   ]
  },
  {
   "cell_type": "code",
   "execution_count": 23,
   "id": "c60f0da7",
   "metadata": {},
   "outputs": [
    {
     "data": {
      "text/plain": [
       "0         3\n",
       "1         1\n",
       "2         1\n",
       "3         2\n",
       "4         2\n",
       "         ..\n",
       "116053    2\n",
       "116054    1\n",
       "116055    2\n",
       "116056    2\n",
       "116057    1\n",
       "Name: org_date_month, Length: 116058, dtype: int64"
      ]
     },
     "execution_count": 23,
     "metadata": {},
     "output_type": "execute_result"
    }
   ],
   "source": [
    "df['org_date_month']"
   ]
  },
  {
   "cell_type": "code",
   "execution_count": 24,
   "id": "a4f2759f",
   "metadata": {},
   "outputs": [
    {
     "data": {
      "text/plain": [
       "0         05/2012\n",
       "1         03/2012\n",
       "2         03/2012\n",
       "3         04/2012\n",
       "4         04/2012\n",
       "           ...   \n",
       "116053    04/2012\n",
       "116054    03/2012\n",
       "116055    04/2012\n",
       "116056    04/2012\n",
       "116057    03/2012\n",
       "Name: first_payment_date, Length: 116058, dtype: object"
      ]
     },
     "execution_count": 24,
     "metadata": {},
     "output_type": "execute_result"
    }
   ],
   "source": [
    "df['first_payment_date']"
   ]
  },
  {
   "cell_type": "code",
   "execution_count": 25,
   "id": "ea3ed749",
   "metadata": {},
   "outputs": [],
   "source": [
    "df['first_payment_date'] = df['first_payment_date'].apply(lambda x: datetime.strptime(x, \"%m/%Y\"))\n",
    "df['firs_pay_month'] = df['first_payment_date'].apply(lambda x:x.month)"
   ]
  },
  {
   "cell_type": "code",
   "execution_count": 26,
   "id": "fc6b2057",
   "metadata": {},
   "outputs": [
    {
     "data": {
      "text/plain": [
       "0         5\n",
       "1         3\n",
       "2         3\n",
       "3         4\n",
       "4         4\n",
       "         ..\n",
       "116053    4\n",
       "116054    3\n",
       "116055    4\n",
       "116056    4\n",
       "116057    3\n",
       "Name: firs_pay_month, Length: 116058, dtype: int64"
      ]
     },
     "execution_count": 26,
     "metadata": {},
     "output_type": "execute_result"
    }
   ],
   "source": [
    "df['firs_pay_month']"
   ]
  },
  {
   "cell_type": "code",
   "execution_count": 27,
   "id": "192da09e",
   "metadata": {},
   "outputs": [
    {
     "data": {
      "text/plain": [
       "source                              object\n",
       "financial_institution               object\n",
       "interest_rate                      float64\n",
       "unpaid_principal_bal                 int64\n",
       "loan_term                            int64\n",
       "origination_date            datetime64[ns]\n",
       "first_payment_date          datetime64[ns]\n",
       "loan_to_value                        int64\n",
       "debt_to_income_ratio               float64\n",
       "borrower_credit_score              float64\n",
       "loan_purpose                        object\n",
       "insurance_percent                  float64\n",
       "co-borrower_credit_score           float64\n",
       "insurance_type                     float64\n",
       "m1                                   int64\n",
       "m2                                   int64\n",
       "m3                                   int64\n",
       "m4                                   int64\n",
       "m5                                   int64\n",
       "m6                                   int64\n",
       "m7                                   int64\n",
       "m8                                   int64\n",
       "m9                                   int64\n",
       "m10                                  int64\n",
       "m11                                  int64\n",
       "m12                                  int64\n",
       "m13                                  int64\n",
       "org_date_month                       int64\n",
       "firs_pay_month                       int64\n",
       "dtype: object"
      ]
     },
     "execution_count": 27,
     "metadata": {},
     "output_type": "execute_result"
    }
   ],
   "source": [
    "df.dtypes"
   ]
  },
  {
   "cell_type": "code",
   "execution_count": 28,
   "id": "e7fec2fc",
   "metadata": {},
   "outputs": [
    {
     "data": {
      "text/plain": [
       "array(['Z', 'Y', 'X'], dtype=object)"
      ]
     },
     "execution_count": 28,
     "metadata": {},
     "output_type": "execute_result"
    }
   ],
   "source": [
    "df['source'].unique()"
   ]
  },
  {
   "cell_type": "code",
   "execution_count": 29,
   "id": "6f478380",
   "metadata": {},
   "outputs": [
    {
     "data": {
      "text/plain": [
       "array(['Turner, Baldwin and Rhodes', 'Swanson, Newton and Miller',\n",
       "       'Thornton-Davis', 'OTHER', 'Browning-Hart', 'Richardson Ltd',\n",
       "       'Edwards-Hoffman', 'Richards-Walters', 'Martinez, Duffy and Bird',\n",
       "       'Miller, Mcclure and Allen', 'Anderson-Taylor',\n",
       "       'Taylor, Hunt and Rodriguez', 'Nicholson Group',\n",
       "       'Cole, Brooks and Vincent', 'Sanchez, Hays and Wilkerson',\n",
       "       'Sanchez-Robinson', 'Suarez Inc', 'Romero, Woods and Johnson',\n",
       "       'Chapman-Mcmahon'], dtype=object)"
      ]
     },
     "execution_count": 29,
     "metadata": {},
     "output_type": "execute_result"
    }
   ],
   "source": [
    "df['financial_institution'].unique()"
   ]
  },
  {
   "cell_type": "code",
   "execution_count": 30,
   "id": "776f6d80",
   "metadata": {},
   "outputs": [
    {
     "data": {
      "text/plain": [
       "array(['C86', 'B12', 'A23'], dtype=object)"
      ]
     },
     "execution_count": 30,
     "metadata": {},
     "output_type": "execute_result"
    }
   ],
   "source": [
    "df['loan_purpose'].unique()"
   ]
  },
  {
   "cell_type": "code",
   "execution_count": 31,
   "id": "37dc7152",
   "metadata": {},
   "outputs": [],
   "source": [
    "# to take m13 as target, we must check whether the person is able to repay the loan at m13 th month\n",
    "# some details in the table are not necessary for identifying if they can repay\n",
    "# so we can drop such columns\n",
    "# origination_date, first_payment_date can be dropped "
   ]
  },
  {
   "cell_type": "code",
   "execution_count": 32,
   "id": "db0157d0",
   "metadata": {},
   "outputs": [],
   "source": [
    "df.drop(['first_payment_date','origination_date'],axis=1, inplace=True)"
   ]
  },
  {
   "cell_type": "code",
   "execution_count": 33,
   "id": "68040fbf",
   "metadata": {},
   "outputs": [
    {
     "data": {
      "text/html": [
       "<div>\n",
       "<style scoped>\n",
       "    .dataframe tbody tr th:only-of-type {\n",
       "        vertical-align: middle;\n",
       "    }\n",
       "\n",
       "    .dataframe tbody tr th {\n",
       "        vertical-align: top;\n",
       "    }\n",
       "\n",
       "    .dataframe thead th {\n",
       "        text-align: right;\n",
       "    }\n",
       "</style>\n",
       "<table border=\"1\" class=\"dataframe\">\n",
       "  <thead>\n",
       "    <tr style=\"text-align: right;\">\n",
       "      <th></th>\n",
       "      <th>source</th>\n",
       "      <th>financial_institution</th>\n",
       "      <th>interest_rate</th>\n",
       "      <th>unpaid_principal_bal</th>\n",
       "      <th>loan_term</th>\n",
       "      <th>loan_to_value</th>\n",
       "      <th>debt_to_income_ratio</th>\n",
       "      <th>borrower_credit_score</th>\n",
       "      <th>loan_purpose</th>\n",
       "      <th>insurance_percent</th>\n",
       "      <th>...</th>\n",
       "      <th>m6</th>\n",
       "      <th>m7</th>\n",
       "      <th>m8</th>\n",
       "      <th>m9</th>\n",
       "      <th>m10</th>\n",
       "      <th>m11</th>\n",
       "      <th>m12</th>\n",
       "      <th>m13</th>\n",
       "      <th>org_date_month</th>\n",
       "      <th>firs_pay_month</th>\n",
       "    </tr>\n",
       "  </thead>\n",
       "  <tbody>\n",
       "    <tr>\n",
       "      <th>0</th>\n",
       "      <td>Z</td>\n",
       "      <td>Turner, Baldwin and Rhodes</td>\n",
       "      <td>4.250</td>\n",
       "      <td>214000</td>\n",
       "      <td>360</td>\n",
       "      <td>95</td>\n",
       "      <td>22.0</td>\n",
       "      <td>694.0</td>\n",
       "      <td>C86</td>\n",
       "      <td>30.0</td>\n",
       "      <td>...</td>\n",
       "      <td>0</td>\n",
       "      <td>1</td>\n",
       "      <td>0</td>\n",
       "      <td>0</td>\n",
       "      <td>0</td>\n",
       "      <td>0</td>\n",
       "      <td>0</td>\n",
       "      <td>1</td>\n",
       "      <td>3</td>\n",
       "      <td>5</td>\n",
       "    </tr>\n",
       "    <tr>\n",
       "      <th>1</th>\n",
       "      <td>Y</td>\n",
       "      <td>Swanson, Newton and Miller</td>\n",
       "      <td>4.875</td>\n",
       "      <td>144000</td>\n",
       "      <td>360</td>\n",
       "      <td>72</td>\n",
       "      <td>44.0</td>\n",
       "      <td>697.0</td>\n",
       "      <td>B12</td>\n",
       "      <td>0.0</td>\n",
       "      <td>...</td>\n",
       "      <td>0</td>\n",
       "      <td>0</td>\n",
       "      <td>0</td>\n",
       "      <td>0</td>\n",
       "      <td>0</td>\n",
       "      <td>1</td>\n",
       "      <td>0</td>\n",
       "      <td>1</td>\n",
       "      <td>1</td>\n",
       "      <td>3</td>\n",
       "    </tr>\n",
       "    <tr>\n",
       "      <th>2</th>\n",
       "      <td>Z</td>\n",
       "      <td>Thornton-Davis</td>\n",
       "      <td>3.250</td>\n",
       "      <td>366000</td>\n",
       "      <td>180</td>\n",
       "      <td>49</td>\n",
       "      <td>33.0</td>\n",
       "      <td>780.0</td>\n",
       "      <td>B12</td>\n",
       "      <td>0.0</td>\n",
       "      <td>...</td>\n",
       "      <td>0</td>\n",
       "      <td>0</td>\n",
       "      <td>0</td>\n",
       "      <td>0</td>\n",
       "      <td>0</td>\n",
       "      <td>0</td>\n",
       "      <td>0</td>\n",
       "      <td>1</td>\n",
       "      <td>1</td>\n",
       "      <td>3</td>\n",
       "    </tr>\n",
       "    <tr>\n",
       "      <th>3</th>\n",
       "      <td>X</td>\n",
       "      <td>OTHER</td>\n",
       "      <td>4.750</td>\n",
       "      <td>135000</td>\n",
       "      <td>360</td>\n",
       "      <td>46</td>\n",
       "      <td>44.0</td>\n",
       "      <td>633.0</td>\n",
       "      <td>B12</td>\n",
       "      <td>0.0</td>\n",
       "      <td>...</td>\n",
       "      <td>0</td>\n",
       "      <td>0</td>\n",
       "      <td>0</td>\n",
       "      <td>1</td>\n",
       "      <td>1</td>\n",
       "      <td>1</td>\n",
       "      <td>1</td>\n",
       "      <td>1</td>\n",
       "      <td>2</td>\n",
       "      <td>4</td>\n",
       "    </tr>\n",
       "    <tr>\n",
       "      <th>4</th>\n",
       "      <td>X</td>\n",
       "      <td>OTHER</td>\n",
       "      <td>4.750</td>\n",
       "      <td>124000</td>\n",
       "      <td>360</td>\n",
       "      <td>80</td>\n",
       "      <td>43.0</td>\n",
       "      <td>681.0</td>\n",
       "      <td>C86</td>\n",
       "      <td>0.0</td>\n",
       "      <td>...</td>\n",
       "      <td>5</td>\n",
       "      <td>6</td>\n",
       "      <td>7</td>\n",
       "      <td>8</td>\n",
       "      <td>9</td>\n",
       "      <td>10</td>\n",
       "      <td>11</td>\n",
       "      <td>1</td>\n",
       "      <td>2</td>\n",
       "      <td>4</td>\n",
       "    </tr>\n",
       "    <tr>\n",
       "      <th>...</th>\n",
       "      <td>...</td>\n",
       "      <td>...</td>\n",
       "      <td>...</td>\n",
       "      <td>...</td>\n",
       "      <td>...</td>\n",
       "      <td>...</td>\n",
       "      <td>...</td>\n",
       "      <td>...</td>\n",
       "      <td>...</td>\n",
       "      <td>...</td>\n",
       "      <td>...</td>\n",
       "      <td>...</td>\n",
       "      <td>...</td>\n",
       "      <td>...</td>\n",
       "      <td>...</td>\n",
       "      <td>...</td>\n",
       "      <td>...</td>\n",
       "      <td>...</td>\n",
       "      <td>...</td>\n",
       "      <td>...</td>\n",
       "      <td>...</td>\n",
       "    </tr>\n",
       "    <tr>\n",
       "      <th>116053</th>\n",
       "      <td>Y</td>\n",
       "      <td>Browning-Hart</td>\n",
       "      <td>4.125</td>\n",
       "      <td>153000</td>\n",
       "      <td>360</td>\n",
       "      <td>88</td>\n",
       "      <td>22.0</td>\n",
       "      <td>801.0</td>\n",
       "      <td>A23</td>\n",
       "      <td>25.0</td>\n",
       "      <td>...</td>\n",
       "      <td>0</td>\n",
       "      <td>0</td>\n",
       "      <td>0</td>\n",
       "      <td>0</td>\n",
       "      <td>0</td>\n",
       "      <td>0</td>\n",
       "      <td>0</td>\n",
       "      <td>0</td>\n",
       "      <td>2</td>\n",
       "      <td>4</td>\n",
       "    </tr>\n",
       "    <tr>\n",
       "      <th>116054</th>\n",
       "      <td>Z</td>\n",
       "      <td>OTHER</td>\n",
       "      <td>3.000</td>\n",
       "      <td>150000</td>\n",
       "      <td>120</td>\n",
       "      <td>35</td>\n",
       "      <td>37.0</td>\n",
       "      <td>796.0</td>\n",
       "      <td>B12</td>\n",
       "      <td>0.0</td>\n",
       "      <td>...</td>\n",
       "      <td>0</td>\n",
       "      <td>0</td>\n",
       "      <td>0</td>\n",
       "      <td>0</td>\n",
       "      <td>0</td>\n",
       "      <td>0</td>\n",
       "      <td>0</td>\n",
       "      <td>0</td>\n",
       "      <td>1</td>\n",
       "      <td>3</td>\n",
       "    </tr>\n",
       "    <tr>\n",
       "      <th>116055</th>\n",
       "      <td>X</td>\n",
       "      <td>OTHER</td>\n",
       "      <td>3.875</td>\n",
       "      <td>166000</td>\n",
       "      <td>360</td>\n",
       "      <td>58</td>\n",
       "      <td>49.0</td>\n",
       "      <td>724.0</td>\n",
       "      <td>B12</td>\n",
       "      <td>0.0</td>\n",
       "      <td>...</td>\n",
       "      <td>0</td>\n",
       "      <td>0</td>\n",
       "      <td>0</td>\n",
       "      <td>0</td>\n",
       "      <td>0</td>\n",
       "      <td>0</td>\n",
       "      <td>0</td>\n",
       "      <td>0</td>\n",
       "      <td>2</td>\n",
       "      <td>4</td>\n",
       "    </tr>\n",
       "    <tr>\n",
       "      <th>116056</th>\n",
       "      <td>X</td>\n",
       "      <td>OTHER</td>\n",
       "      <td>4.250</td>\n",
       "      <td>169000</td>\n",
       "      <td>360</td>\n",
       "      <td>74</td>\n",
       "      <td>13.0</td>\n",
       "      <td>755.0</td>\n",
       "      <td>A23</td>\n",
       "      <td>0.0</td>\n",
       "      <td>...</td>\n",
       "      <td>0</td>\n",
       "      <td>0</td>\n",
       "      <td>0</td>\n",
       "      <td>0</td>\n",
       "      <td>0</td>\n",
       "      <td>0</td>\n",
       "      <td>0</td>\n",
       "      <td>0</td>\n",
       "      <td>2</td>\n",
       "      <td>4</td>\n",
       "    </tr>\n",
       "    <tr>\n",
       "      <th>116057</th>\n",
       "      <td>Z</td>\n",
       "      <td>Thornton-Davis</td>\n",
       "      <td>3.375</td>\n",
       "      <td>252000</td>\n",
       "      <td>180</td>\n",
       "      <td>29</td>\n",
       "      <td>40.0</td>\n",
       "      <td>770.0</td>\n",
       "      <td>A23</td>\n",
       "      <td>0.0</td>\n",
       "      <td>...</td>\n",
       "      <td>0</td>\n",
       "      <td>0</td>\n",
       "      <td>0</td>\n",
       "      <td>0</td>\n",
       "      <td>0</td>\n",
       "      <td>0</td>\n",
       "      <td>0</td>\n",
       "      <td>0</td>\n",
       "      <td>1</td>\n",
       "      <td>3</td>\n",
       "    </tr>\n",
       "  </tbody>\n",
       "</table>\n",
       "<p>116058 rows × 27 columns</p>\n",
       "</div>"
      ],
      "text/plain": [
       "       source       financial_institution  interest_rate  \\\n",
       "0           Z  Turner, Baldwin and Rhodes          4.250   \n",
       "1           Y  Swanson, Newton and Miller          4.875   \n",
       "2           Z              Thornton-Davis          3.250   \n",
       "3           X                       OTHER          4.750   \n",
       "4           X                       OTHER          4.750   \n",
       "...       ...                         ...            ...   \n",
       "116053      Y               Browning-Hart          4.125   \n",
       "116054      Z                       OTHER          3.000   \n",
       "116055      X                       OTHER          3.875   \n",
       "116056      X                       OTHER          4.250   \n",
       "116057      Z              Thornton-Davis          3.375   \n",
       "\n",
       "        unpaid_principal_bal  loan_term  loan_to_value  debt_to_income_ratio  \\\n",
       "0                     214000        360             95                  22.0   \n",
       "1                     144000        360             72                  44.0   \n",
       "2                     366000        180             49                  33.0   \n",
       "3                     135000        360             46                  44.0   \n",
       "4                     124000        360             80                  43.0   \n",
       "...                      ...        ...            ...                   ...   \n",
       "116053                153000        360             88                  22.0   \n",
       "116054                150000        120             35                  37.0   \n",
       "116055                166000        360             58                  49.0   \n",
       "116056                169000        360             74                  13.0   \n",
       "116057                252000        180             29                  40.0   \n",
       "\n",
       "        borrower_credit_score loan_purpose  insurance_percent  ...  m6  m7  \\\n",
       "0                       694.0          C86               30.0  ...   0   1   \n",
       "1                       697.0          B12                0.0  ...   0   0   \n",
       "2                       780.0          B12                0.0  ...   0   0   \n",
       "3                       633.0          B12                0.0  ...   0   0   \n",
       "4                       681.0          C86                0.0  ...   5   6   \n",
       "...                       ...          ...                ...  ...  ..  ..   \n",
       "116053                  801.0          A23               25.0  ...   0   0   \n",
       "116054                  796.0          B12                0.0  ...   0   0   \n",
       "116055                  724.0          B12                0.0  ...   0   0   \n",
       "116056                  755.0          A23                0.0  ...   0   0   \n",
       "116057                  770.0          A23                0.0  ...   0   0   \n",
       "\n",
       "        m8  m9  m10  m11  m12  m13  org_date_month  firs_pay_month  \n",
       "0        0   0    0    0    0    1               3               5  \n",
       "1        0   0    0    1    0    1               1               3  \n",
       "2        0   0    0    0    0    1               1               3  \n",
       "3        0   1    1    1    1    1               2               4  \n",
       "4        7   8    9   10   11    1               2               4  \n",
       "...     ..  ..  ...  ...  ...  ...             ...             ...  \n",
       "116053   0   0    0    0    0    0               2               4  \n",
       "116054   0   0    0    0    0    0               1               3  \n",
       "116055   0   0    0    0    0    0               2               4  \n",
       "116056   0   0    0    0    0    0               2               4  \n",
       "116057   0   0    0    0    0    0               1               3  \n",
       "\n",
       "[116058 rows x 27 columns]"
      ]
     },
     "execution_count": 33,
     "metadata": {},
     "output_type": "execute_result"
    }
   ],
   "source": [
    "df"
   ]
  },
  {
   "cell_type": "code",
   "execution_count": 34,
   "id": "690d248b",
   "metadata": {},
   "outputs": [],
   "source": [
    "# incase of source, financial_institution, loan_purpose we don't know if they affect the repaying or not\n",
    "# so either we cam drop them or encode them"
   ]
  },
  {
   "cell_type": "code",
   "execution_count": 35,
   "id": "f7a8b6b6",
   "metadata": {},
   "outputs": [],
   "source": [
    "# here I'm dropping thise columns"
   ]
  },
  {
   "cell_type": "code",
   "execution_count": 36,
   "id": "61945f88",
   "metadata": {},
   "outputs": [],
   "source": [
    "df.drop(['source','financial_institution','loan_purpose'], axis=1, inplace=True)"
   ]
  },
  {
   "cell_type": "code",
   "execution_count": 37,
   "id": "9fb9e24b",
   "metadata": {},
   "outputs": [
    {
     "data": {
      "text/html": [
       "<div>\n",
       "<style scoped>\n",
       "    .dataframe tbody tr th:only-of-type {\n",
       "        vertical-align: middle;\n",
       "    }\n",
       "\n",
       "    .dataframe tbody tr th {\n",
       "        vertical-align: top;\n",
       "    }\n",
       "\n",
       "    .dataframe thead th {\n",
       "        text-align: right;\n",
       "    }\n",
       "</style>\n",
       "<table border=\"1\" class=\"dataframe\">\n",
       "  <thead>\n",
       "    <tr style=\"text-align: right;\">\n",
       "      <th></th>\n",
       "      <th>interest_rate</th>\n",
       "      <th>unpaid_principal_bal</th>\n",
       "      <th>loan_term</th>\n",
       "      <th>loan_to_value</th>\n",
       "      <th>debt_to_income_ratio</th>\n",
       "      <th>borrower_credit_score</th>\n",
       "      <th>insurance_percent</th>\n",
       "      <th>co-borrower_credit_score</th>\n",
       "      <th>insurance_type</th>\n",
       "      <th>m1</th>\n",
       "      <th>...</th>\n",
       "      <th>m6</th>\n",
       "      <th>m7</th>\n",
       "      <th>m8</th>\n",
       "      <th>m9</th>\n",
       "      <th>m10</th>\n",
       "      <th>m11</th>\n",
       "      <th>m12</th>\n",
       "      <th>m13</th>\n",
       "      <th>org_date_month</th>\n",
       "      <th>firs_pay_month</th>\n",
       "    </tr>\n",
       "  </thead>\n",
       "  <tbody>\n",
       "    <tr>\n",
       "      <th>0</th>\n",
       "      <td>4.250</td>\n",
       "      <td>214000</td>\n",
       "      <td>360</td>\n",
       "      <td>95</td>\n",
       "      <td>22.0</td>\n",
       "      <td>694.0</td>\n",
       "      <td>30.0</td>\n",
       "      <td>0.0</td>\n",
       "      <td>0.0</td>\n",
       "      <td>0</td>\n",
       "      <td>...</td>\n",
       "      <td>0</td>\n",
       "      <td>1</td>\n",
       "      <td>0</td>\n",
       "      <td>0</td>\n",
       "      <td>0</td>\n",
       "      <td>0</td>\n",
       "      <td>0</td>\n",
       "      <td>1</td>\n",
       "      <td>3</td>\n",
       "      <td>5</td>\n",
       "    </tr>\n",
       "    <tr>\n",
       "      <th>1</th>\n",
       "      <td>4.875</td>\n",
       "      <td>144000</td>\n",
       "      <td>360</td>\n",
       "      <td>72</td>\n",
       "      <td>44.0</td>\n",
       "      <td>697.0</td>\n",
       "      <td>0.0</td>\n",
       "      <td>0.0</td>\n",
       "      <td>0.0</td>\n",
       "      <td>0</td>\n",
       "      <td>...</td>\n",
       "      <td>0</td>\n",
       "      <td>0</td>\n",
       "      <td>0</td>\n",
       "      <td>0</td>\n",
       "      <td>0</td>\n",
       "      <td>1</td>\n",
       "      <td>0</td>\n",
       "      <td>1</td>\n",
       "      <td>1</td>\n",
       "      <td>3</td>\n",
       "    </tr>\n",
       "    <tr>\n",
       "      <th>2</th>\n",
       "      <td>3.250</td>\n",
       "      <td>366000</td>\n",
       "      <td>180</td>\n",
       "      <td>49</td>\n",
       "      <td>33.0</td>\n",
       "      <td>780.0</td>\n",
       "      <td>0.0</td>\n",
       "      <td>0.0</td>\n",
       "      <td>0.0</td>\n",
       "      <td>0</td>\n",
       "      <td>...</td>\n",
       "      <td>0</td>\n",
       "      <td>0</td>\n",
       "      <td>0</td>\n",
       "      <td>0</td>\n",
       "      <td>0</td>\n",
       "      <td>0</td>\n",
       "      <td>0</td>\n",
       "      <td>1</td>\n",
       "      <td>1</td>\n",
       "      <td>3</td>\n",
       "    </tr>\n",
       "    <tr>\n",
       "      <th>3</th>\n",
       "      <td>4.750</td>\n",
       "      <td>135000</td>\n",
       "      <td>360</td>\n",
       "      <td>46</td>\n",
       "      <td>44.0</td>\n",
       "      <td>633.0</td>\n",
       "      <td>0.0</td>\n",
       "      <td>638.0</td>\n",
       "      <td>0.0</td>\n",
       "      <td>0</td>\n",
       "      <td>...</td>\n",
       "      <td>0</td>\n",
       "      <td>0</td>\n",
       "      <td>0</td>\n",
       "      <td>1</td>\n",
       "      <td>1</td>\n",
       "      <td>1</td>\n",
       "      <td>1</td>\n",
       "      <td>1</td>\n",
       "      <td>2</td>\n",
       "      <td>4</td>\n",
       "    </tr>\n",
       "    <tr>\n",
       "      <th>4</th>\n",
       "      <td>4.750</td>\n",
       "      <td>124000</td>\n",
       "      <td>360</td>\n",
       "      <td>80</td>\n",
       "      <td>43.0</td>\n",
       "      <td>681.0</td>\n",
       "      <td>0.0</td>\n",
       "      <td>0.0</td>\n",
       "      <td>0.0</td>\n",
       "      <td>0</td>\n",
       "      <td>...</td>\n",
       "      <td>5</td>\n",
       "      <td>6</td>\n",
       "      <td>7</td>\n",
       "      <td>8</td>\n",
       "      <td>9</td>\n",
       "      <td>10</td>\n",
       "      <td>11</td>\n",
       "      <td>1</td>\n",
       "      <td>2</td>\n",
       "      <td>4</td>\n",
       "    </tr>\n",
       "  </tbody>\n",
       "</table>\n",
       "<p>5 rows × 24 columns</p>\n",
       "</div>"
      ],
      "text/plain": [
       "   interest_rate  unpaid_principal_bal  loan_term  loan_to_value  \\\n",
       "0          4.250                214000        360             95   \n",
       "1          4.875                144000        360             72   \n",
       "2          3.250                366000        180             49   \n",
       "3          4.750                135000        360             46   \n",
       "4          4.750                124000        360             80   \n",
       "\n",
       "   debt_to_income_ratio  borrower_credit_score  insurance_percent  \\\n",
       "0                  22.0                  694.0               30.0   \n",
       "1                  44.0                  697.0                0.0   \n",
       "2                  33.0                  780.0                0.0   \n",
       "3                  44.0                  633.0                0.0   \n",
       "4                  43.0                  681.0                0.0   \n",
       "\n",
       "   co-borrower_credit_score  insurance_type  m1  ...  m6  m7  m8  m9  m10  \\\n",
       "0                       0.0             0.0   0  ...   0   1   0   0    0   \n",
       "1                       0.0             0.0   0  ...   0   0   0   0    0   \n",
       "2                       0.0             0.0   0  ...   0   0   0   0    0   \n",
       "3                     638.0             0.0   0  ...   0   0   0   1    1   \n",
       "4                       0.0             0.0   0  ...   5   6   7   8    9   \n",
       "\n",
       "   m11  m12  m13  org_date_month  firs_pay_month  \n",
       "0    0    0    1               3               5  \n",
       "1    1    0    1               1               3  \n",
       "2    0    0    1               1               3  \n",
       "3    1    1    1               2               4  \n",
       "4   10   11    1               2               4  \n",
       "\n",
       "[5 rows x 24 columns]"
      ]
     },
     "execution_count": 37,
     "metadata": {},
     "output_type": "execute_result"
    }
   ],
   "source": [
    "df.head()"
   ]
  },
  {
   "cell_type": "code",
   "execution_count": 38,
   "id": "aa61b8d5",
   "metadata": {},
   "outputs": [
    {
     "data": {
      "text/plain": [
       "interest_rate               0\n",
       "unpaid_principal_bal        0\n",
       "loan_term                   0\n",
       "loan_to_value               0\n",
       "debt_to_income_ratio        0\n",
       "borrower_credit_score       0\n",
       "insurance_percent           0\n",
       "co-borrower_credit_score    0\n",
       "insurance_type              0\n",
       "m1                          0\n",
       "m2                          0\n",
       "m3                          0\n",
       "m4                          0\n",
       "m5                          0\n",
       "m6                          0\n",
       "m7                          0\n",
       "m8                          0\n",
       "m9                          0\n",
       "m10                         0\n",
       "m11                         0\n",
       "m12                         0\n",
       "m13                         0\n",
       "org_date_month              0\n",
       "firs_pay_month              0\n",
       "dtype: int64"
      ]
     },
     "execution_count": 38,
     "metadata": {},
     "output_type": "execute_result"
    }
   ],
   "source": [
    "df.isna().sum()"
   ]
  },
  {
   "cell_type": "code",
   "execution_count": 39,
   "id": "71c3284f",
   "metadata": {},
   "outputs": [],
   "source": [
    "# m13 is target"
   ]
  },
  {
   "cell_type": "code",
   "execution_count": 40,
   "id": "dc579337",
   "metadata": {},
   "outputs": [],
   "source": [
    "# split to feature and target\n",
    "X = df.drop('m13',axis=1)\n",
    "y = df['m13']"
   ]
  },
  {
   "cell_type": "code",
   "execution_count": 41,
   "id": "ea3d472e",
   "metadata": {},
   "outputs": [],
   "source": [
    "# split into train and test set\\\n",
    "from sklearn.model_selection import train_test_split\n",
    "X_train, X_test, y_train, y_test = train_test_split(X,y,test_size=0.2,random_state=42)"
   ]
  },
  {
   "cell_type": "markdown",
   "id": "8a3ffda2",
   "metadata": {},
   "source": [
    "### Logistic Regression"
   ]
  },
  {
   "cell_type": "code",
   "execution_count": 42,
   "id": "c2b57805",
   "metadata": {},
   "outputs": [],
   "source": [
    "from sklearn.linear_model import LogisticRegression"
   ]
  },
  {
   "cell_type": "code",
   "execution_count": 43,
   "id": "f2502e60",
   "metadata": {},
   "outputs": [],
   "source": [
    "log_reg = LogisticRegression()\n",
    "log_reg_model = log_reg.fit(X_train, y_train)\n",
    "log_pred = log_reg_model.predict(X_test)"
   ]
  },
  {
   "cell_type": "code",
   "execution_count": 44,
   "id": "7887241f",
   "metadata": {},
   "outputs": [],
   "source": [
    "from sklearn.metrics import confusion_matrix, accuracy_score"
   ]
  },
  {
   "cell_type": "code",
   "execution_count": 45,
   "id": "b148f200",
   "metadata": {},
   "outputs": [
    {
     "name": "stdout",
     "output_type": "stream",
     "text": [
      "Confusion Matrix is \n",
      ": [[23073    11]\n",
      " [  128     0]]\n"
     ]
    }
   ],
   "source": [
    "print('Confusion Matrix is \\n:', confusion_matrix(y_test,log_pred))"
   ]
  },
  {
   "cell_type": "code",
   "execution_count": 46,
   "id": "a9fabd2c",
   "metadata": {},
   "outputs": [
    {
     "name": "stdout",
     "output_type": "stream",
     "text": [
      "Accuracy score: 0.9940117180768568\n"
     ]
    }
   ],
   "source": [
    "print(\"Accuracy score:\",accuracy_score(y_test,log_pred))"
   ]
  },
  {
   "cell_type": "markdown",
   "id": "71f5cb1e",
   "metadata": {},
   "source": [
    "### SVM"
   ]
  },
  {
   "cell_type": "code",
   "execution_count": 47,
   "id": "ee0664b4",
   "metadata": {},
   "outputs": [],
   "source": [
    "from sklearn.svm import SVC"
   ]
  },
  {
   "cell_type": "code",
   "execution_count": 48,
   "id": "5fbbb235",
   "metadata": {},
   "outputs": [],
   "source": [
    "# linear kernel takes too much time to run\n",
    "# we do only rbf kernel"
   ]
  },
  {
   "cell_type": "code",
   "execution_count": 49,
   "id": "0c9d0ee0",
   "metadata": {},
   "outputs": [],
   "source": [
    "svm_clf = SVC(kernel='rbf')\n",
    "svm_model = svm_clf.fit(X_train, y_train)\n",
    "svm_pred = svm_model.predict(X_test)"
   ]
  },
  {
   "cell_type": "code",
   "execution_count": 50,
   "id": "34bd16d9",
   "metadata": {},
   "outputs": [
    {
     "name": "stdout",
     "output_type": "stream",
     "text": [
      "Confusion Matrix is \n",
      ": [[23084     0]\n",
      " [  128     0]]\n"
     ]
    }
   ],
   "source": [
    "print('Confusion Matrix is \\n:', confusion_matrix(y_test,svm_pred))"
   ]
  },
  {
   "cell_type": "code",
   "execution_count": 51,
   "id": "9c88fa8b",
   "metadata": {},
   "outputs": [
    {
     "name": "stdout",
     "output_type": "stream",
     "text": [
      "Accuracy is : 0.9944856108909185\n"
     ]
    }
   ],
   "source": [
    "print('Accuracy is :', accuracy_score(y_test,svm_pred))"
   ]
  },
  {
   "cell_type": "markdown",
   "id": "73a2ad11",
   "metadata": {},
   "source": [
    "### kNN"
   ]
  },
  {
   "cell_type": "code",
   "execution_count": 52,
   "id": "7ee6e767",
   "metadata": {},
   "outputs": [],
   "source": [
    "from sklearn.neighbors import KNeighborsClassifier"
   ]
  },
  {
   "cell_type": "code",
   "execution_count": 53,
   "id": "a550010f",
   "metadata": {},
   "outputs": [],
   "source": [
    "# find the optimum k value\n",
    "metric_k = []\n",
    "neighbors = range(3, 15)\n",
    "\n",
    "for k in neighbors:\n",
    "    classifier = KNeighborsClassifier(n_neighbors=k)\n",
    "    classifier = classifier.fit(X_train, y_train)\n",
    "    y_pred_kNN = classifier.predict(X_test)\n",
    "    acc = accuracy_score(y_test, y_pred_kNN)\n",
    "    metric_k.append(acc)"
   ]
  },
  {
   "cell_type": "code",
   "execution_count": 55,
   "id": "ecf9d71b",
   "metadata": {},
   "outputs": [
    {
     "data": {
      "image/png": "[encoded data removed]",
      "text/plain": [
       "<Figure size 432x288 with 1 Axes>"
      ]
     },
     "metadata": {
      "needs_background": "light"
     },
     "output_type": "display_data"
    }
   ],
   "source": [
    "plt.plot(neighbors, metric_k, 'o-')\n",
    "plt.xlabel('k values')\n",
    "plt.ylabel('Accuracies')\n",
    "plt.grid();"
   ]
  },
  {
   "cell_type": "code",
   "execution_count": 56,
   "id": "1fe0034a",
   "metadata": {},
   "outputs": [
    {
     "data": {
      "text/plain": [
       "[0.993839393417198,\n",
       " 0.9943132862312597,\n",
       " 0.9942271239014303,\n",
       " 0.9944856108909185,\n",
       " 0.9944856108909185,\n",
       " 0.9944856108909185,\n",
       " 0.9944856108909185,\n",
       " 0.9944856108909185,\n",
       " 0.9944856108909185,\n",
       " 0.9944856108909185,\n",
       " 0.9944856108909185,\n",
       " 0.9944856108909185]"
      ]
     },
     "execution_count": 56,
     "metadata": {},
     "output_type": "execute_result"
    }
   ],
   "source": [
    "metric_k"
   ]
  },
  {
   "cell_type": "code",
   "execution_count": 57,
   "id": "4be76035",
   "metadata": {},
   "outputs": [],
   "source": [
    "# create the model\n",
    "classifier = KNeighborsClassifier(n_neighbors=5)\n",
    "classifier = classifier.fit(X_train, y_train)\n",
    "y_pred_kNN = classifier.predict(X_test)"
   ]
  },
  {
   "cell_type": "code",
   "execution_count": 58,
   "id": "327dae1c",
   "metadata": {},
   "outputs": [
    {
     "data": {
      "text/plain": [
       "array([[23078,     6],\n",
       "       [  128,     0]], dtype=int64)"
      ]
     },
     "execution_count": 58,
     "metadata": {},
     "output_type": "execute_result"
    }
   ],
   "source": [
    "confusion_matrix(y_test, y_pred_kNN)"
   ]
  },
  {
   "cell_type": "code",
   "execution_count": 59,
   "id": "5ade6607",
   "metadata": {},
   "outputs": [
    {
     "data": {
      "text/plain": [
       "0.9942271239014303"
      ]
     },
     "execution_count": 59,
     "metadata": {},
     "output_type": "execute_result"
    }
   ],
   "source": [
    "accuracy_score(y_test, y_pred_kNN)"
   ]
  },
  {
   "cell_type": "markdown",
   "id": "4321d9b4",
   "metadata": {},
   "source": [
    "### Decision Tree"
   ]
  },
  {
   "cell_type": "code",
   "execution_count": 60,
   "id": "a9ee8a76",
   "metadata": {},
   "outputs": [],
   "source": [
    "from sklearn.tree import DecisionTreeClassifier"
   ]
  },
  {
   "cell_type": "code",
   "execution_count": 61,
   "id": "43b3bbe2",
   "metadata": {},
   "outputs": [],
   "source": [
    "# model\n",
    "dt_clf = DecisionTreeClassifier()\n",
    "dt_clf = dt_clf.fit(X_train, y_train)\n",
    "y_pred_dt = dt_clf.predict(X_test)"
   ]
  },
  {
   "cell_type": "code",
   "execution_count": 62,
   "id": "4eb6be3e",
   "metadata": {},
   "outputs": [
    {
     "data": {
      "text/plain": [
       "array([[22987,    97],\n",
       "       [   81,    47]], dtype=int64)"
      ]
     },
     "execution_count": 62,
     "metadata": {},
     "output_type": "execute_result"
    }
   ],
   "source": [
    "confusion_matrix(y_test, y_pred_dt)"
   ]
  },
  {
   "cell_type": "code",
   "execution_count": 63,
   "id": "13b1bc19",
   "metadata": {},
   "outputs": [
    {
     "data": {
      "text/plain": [
       "0.9923315526451836"
      ]
     },
     "execution_count": 63,
     "metadata": {},
     "output_type": "execute_result"
    }
   ],
   "source": [
    "accuracy_score(y_test, y_pred_dt)"
   ]
  },
  {
   "cell_type": "markdown",
   "id": "26ffe726",
   "metadata": {},
   "source": [
    "### Random Forest"
   ]
  },
  {
   "cell_type": "code",
   "execution_count": 64,
   "id": "8a22ccdf",
   "metadata": {},
   "outputs": [],
   "source": [
    "from sklearn.ensemble import RandomForestClassifier"
   ]
  },
  {
   "cell_type": "code",
   "execution_count": 65,
   "id": "ab765a4c",
   "metadata": {},
   "outputs": [],
   "source": [
    "rf_clf = RandomForestClassifier()\n",
    "rf_clf = rf_clf.fit(X_train,y_train)\n",
    "y_pred_rf = rf_clf.predict(X_test)"
   ]
  },
  {
   "cell_type": "code",
   "execution_count": 66,
   "id": "a971cd81",
   "metadata": {},
   "outputs": [
    {
     "data": {
      "text/plain": [
       "array([[23076,     8],\n",
       "       [   81,    47]], dtype=int64)"
      ]
     },
     "execution_count": 66,
     "metadata": {},
     "output_type": "execute_result"
    }
   ],
   "source": [
    "confusion_matrix(y_test, y_pred_rf)"
   ]
  },
  {
   "cell_type": "code",
   "execution_count": 67,
   "id": "5906e6b7",
   "metadata": {},
   "outputs": [
    {
     "data": {
      "text/plain": [
       "0.9961657763225917"
      ]
     },
     "execution_count": 67,
     "metadata": {},
     "output_type": "execute_result"
    }
   ],
   "source": [
    "accuracy_score(y_test, y_pred_rf)"
   ]
  },
  {
   "cell_type": "code",
   "execution_count": null,
   "id": "350c11b7",
   "metadata": {},
   "outputs": [],
   "source": []
  },
  {
   "cell_type": "markdown",
   "id": "a20c42e1",
   "metadata": {},
   "source": [
    "## Min Max Scaling"
   ]
  },
  {
   "cell_type": "code",
   "execution_count": 68,
   "id": "0db80f36",
   "metadata": {},
   "outputs": [],
   "source": [
    "# split to feature and target\n",
    "X = df.drop('m13',axis=1)\n",
    "y = df['m13']"
   ]
  },
  {
   "cell_type": "code",
   "execution_count": 69,
   "id": "3331f03e",
   "metadata": {},
   "outputs": [
    {
     "data": {
      "text/html": [
       "<div>\n",
       "<style scoped>\n",
       "    .dataframe tbody tr th:only-of-type {\n",
       "        vertical-align: middle;\n",
       "    }\n",
       "\n",
       "    .dataframe tbody tr th {\n",
       "        vertical-align: top;\n",
       "    }\n",
       "\n",
       "    .dataframe thead th {\n",
       "        text-align: right;\n",
       "    }\n",
       "</style>\n",
       "<table border=\"1\" class=\"dataframe\">\n",
       "  <thead>\n",
       "    <tr style=\"text-align: right;\">\n",
       "      <th></th>\n",
       "      <th>interest_rate</th>\n",
       "      <th>unpaid_principal_bal</th>\n",
       "      <th>loan_term</th>\n",
       "      <th>loan_to_value</th>\n",
       "      <th>debt_to_income_ratio</th>\n",
       "      <th>borrower_credit_score</th>\n",
       "      <th>insurance_percent</th>\n",
       "      <th>co-borrower_credit_score</th>\n",
       "      <th>insurance_type</th>\n",
       "      <th>m1</th>\n",
       "      <th>...</th>\n",
       "      <th>m5</th>\n",
       "      <th>m6</th>\n",
       "      <th>m7</th>\n",
       "      <th>m8</th>\n",
       "      <th>m9</th>\n",
       "      <th>m10</th>\n",
       "      <th>m11</th>\n",
       "      <th>m12</th>\n",
       "      <th>org_date_month</th>\n",
       "      <th>firs_pay_month</th>\n",
       "    </tr>\n",
       "  </thead>\n",
       "  <tbody>\n",
       "    <tr>\n",
       "      <th>0</th>\n",
       "      <td>0.444444</td>\n",
       "      <td>0.170732</td>\n",
       "      <td>1.0</td>\n",
       "      <td>0.978022</td>\n",
       "      <td>0.333333</td>\n",
       "      <td>0.826190</td>\n",
       "      <td>0.750</td>\n",
       "      <td>0.000000</td>\n",
       "      <td>0.0</td>\n",
       "      <td>0.0</td>\n",
       "      <td>...</td>\n",
       "      <td>0.000000</td>\n",
       "      <td>0.000</td>\n",
       "      <td>0.111111</td>\n",
       "      <td>0.0</td>\n",
       "      <td>0.000000</td>\n",
       "      <td>0.000000</td>\n",
       "      <td>0.000000</td>\n",
       "      <td>0.000000</td>\n",
       "      <td>1.0</td>\n",
       "      <td>1.000000</td>\n",
       "    </tr>\n",
       "    <tr>\n",
       "      <th>1</th>\n",
       "      <td>0.583333</td>\n",
       "      <td>0.111859</td>\n",
       "      <td>1.0</td>\n",
       "      <td>0.725275</td>\n",
       "      <td>0.682540</td>\n",
       "      <td>0.829762</td>\n",
       "      <td>0.000</td>\n",
       "      <td>0.000000</td>\n",
       "      <td>0.0</td>\n",
       "      <td>0.0</td>\n",
       "      <td>...</td>\n",
       "      <td>0.000000</td>\n",
       "      <td>0.000</td>\n",
       "      <td>0.000000</td>\n",
       "      <td>0.0</td>\n",
       "      <td>0.000000</td>\n",
       "      <td>0.000000</td>\n",
       "      <td>0.076923</td>\n",
       "      <td>0.000000</td>\n",
       "      <td>0.0</td>\n",
       "      <td>0.333333</td>\n",
       "    </tr>\n",
       "    <tr>\n",
       "      <th>2</th>\n",
       "      <td>0.222222</td>\n",
       "      <td>0.298570</td>\n",
       "      <td>0.4</td>\n",
       "      <td>0.472527</td>\n",
       "      <td>0.507937</td>\n",
       "      <td>0.928571</td>\n",
       "      <td>0.000</td>\n",
       "      <td>0.000000</td>\n",
       "      <td>0.0</td>\n",
       "      <td>0.0</td>\n",
       "      <td>...</td>\n",
       "      <td>0.000000</td>\n",
       "      <td>0.000</td>\n",
       "      <td>0.000000</td>\n",
       "      <td>0.0</td>\n",
       "      <td>0.000000</td>\n",
       "      <td>0.000000</td>\n",
       "      <td>0.000000</td>\n",
       "      <td>0.000000</td>\n",
       "      <td>0.0</td>\n",
       "      <td>0.333333</td>\n",
       "    </tr>\n",
       "    <tr>\n",
       "      <th>3</th>\n",
       "      <td>0.555556</td>\n",
       "      <td>0.104289</td>\n",
       "      <td>1.0</td>\n",
       "      <td>0.439560</td>\n",
       "      <td>0.682540</td>\n",
       "      <td>0.753571</td>\n",
       "      <td>0.000</td>\n",
       "      <td>0.763158</td>\n",
       "      <td>0.0</td>\n",
       "      <td>0.0</td>\n",
       "      <td>...</td>\n",
       "      <td>0.000000</td>\n",
       "      <td>0.000</td>\n",
       "      <td>0.000000</td>\n",
       "      <td>0.0</td>\n",
       "      <td>0.090909</td>\n",
       "      <td>0.083333</td>\n",
       "      <td>0.076923</td>\n",
       "      <td>0.071429</td>\n",
       "      <td>0.5</td>\n",
       "      <td>0.666667</td>\n",
       "    </tr>\n",
       "    <tr>\n",
       "      <th>4</th>\n",
       "      <td>0.555556</td>\n",
       "      <td>0.095038</td>\n",
       "      <td>1.0</td>\n",
       "      <td>0.813187</td>\n",
       "      <td>0.666667</td>\n",
       "      <td>0.810714</td>\n",
       "      <td>0.000</td>\n",
       "      <td>0.000000</td>\n",
       "      <td>0.0</td>\n",
       "      <td>0.0</td>\n",
       "      <td>...</td>\n",
       "      <td>0.571429</td>\n",
       "      <td>0.625</td>\n",
       "      <td>0.666667</td>\n",
       "      <td>0.7</td>\n",
       "      <td>0.727273</td>\n",
       "      <td>0.750000</td>\n",
       "      <td>0.769231</td>\n",
       "      <td>0.785714</td>\n",
       "      <td>0.5</td>\n",
       "      <td>0.666667</td>\n",
       "    </tr>\n",
       "    <tr>\n",
       "      <th>...</th>\n",
       "      <td>...</td>\n",
       "      <td>...</td>\n",
       "      <td>...</td>\n",
       "      <td>...</td>\n",
       "      <td>...</td>\n",
       "      <td>...</td>\n",
       "      <td>...</td>\n",
       "      <td>...</td>\n",
       "      <td>...</td>\n",
       "      <td>...</td>\n",
       "      <td>...</td>\n",
       "      <td>...</td>\n",
       "      <td>...</td>\n",
       "      <td>...</td>\n",
       "      <td>...</td>\n",
       "      <td>...</td>\n",
       "      <td>...</td>\n",
       "      <td>...</td>\n",
       "      <td>...</td>\n",
       "      <td>...</td>\n",
       "      <td>...</td>\n",
       "    </tr>\n",
       "    <tr>\n",
       "      <th>116053</th>\n",
       "      <td>0.416667</td>\n",
       "      <td>0.119428</td>\n",
       "      <td>1.0</td>\n",
       "      <td>0.901099</td>\n",
       "      <td>0.333333</td>\n",
       "      <td>0.953571</td>\n",
       "      <td>0.625</td>\n",
       "      <td>0.959330</td>\n",
       "      <td>0.0</td>\n",
       "      <td>0.0</td>\n",
       "      <td>...</td>\n",
       "      <td>0.000000</td>\n",
       "      <td>0.000</td>\n",
       "      <td>0.000000</td>\n",
       "      <td>0.0</td>\n",
       "      <td>0.000000</td>\n",
       "      <td>0.000000</td>\n",
       "      <td>0.000000</td>\n",
       "      <td>0.000000</td>\n",
       "      <td>0.5</td>\n",
       "      <td>0.666667</td>\n",
       "    </tr>\n",
       "    <tr>\n",
       "      <th>116054</th>\n",
       "      <td>0.166667</td>\n",
       "      <td>0.116905</td>\n",
       "      <td>0.2</td>\n",
       "      <td>0.318681</td>\n",
       "      <td>0.571429</td>\n",
       "      <td>0.947619</td>\n",
       "      <td>0.000</td>\n",
       "      <td>0.000000</td>\n",
       "      <td>0.0</td>\n",
       "      <td>0.0</td>\n",
       "      <td>...</td>\n",
       "      <td>0.000000</td>\n",
       "      <td>0.000</td>\n",
       "      <td>0.000000</td>\n",
       "      <td>0.0</td>\n",
       "      <td>0.000000</td>\n",
       "      <td>0.000000</td>\n",
       "      <td>0.000000</td>\n",
       "      <td>0.000000</td>\n",
       "      <td>0.0</td>\n",
       "      <td>0.333333</td>\n",
       "    </tr>\n",
       "    <tr>\n",
       "      <th>116055</th>\n",
       "      <td>0.361111</td>\n",
       "      <td>0.130362</td>\n",
       "      <td>1.0</td>\n",
       "      <td>0.571429</td>\n",
       "      <td>0.761905</td>\n",
       "      <td>0.861905</td>\n",
       "      <td>0.000</td>\n",
       "      <td>0.864833</td>\n",
       "      <td>0.0</td>\n",
       "      <td>0.0</td>\n",
       "      <td>...</td>\n",
       "      <td>0.000000</td>\n",
       "      <td>0.000</td>\n",
       "      <td>0.000000</td>\n",
       "      <td>0.0</td>\n",
       "      <td>0.000000</td>\n",
       "      <td>0.000000</td>\n",
       "      <td>0.000000</td>\n",
       "      <td>0.000000</td>\n",
       "      <td>0.5</td>\n",
       "      <td>0.666667</td>\n",
       "    </tr>\n",
       "    <tr>\n",
       "      <th>116056</th>\n",
       "      <td>0.444444</td>\n",
       "      <td>0.132885</td>\n",
       "      <td>1.0</td>\n",
       "      <td>0.747253</td>\n",
       "      <td>0.190476</td>\n",
       "      <td>0.898810</td>\n",
       "      <td>0.000</td>\n",
       "      <td>0.892344</td>\n",
       "      <td>0.0</td>\n",
       "      <td>0.0</td>\n",
       "      <td>...</td>\n",
       "      <td>0.000000</td>\n",
       "      <td>0.000</td>\n",
       "      <td>0.000000</td>\n",
       "      <td>0.0</td>\n",
       "      <td>0.000000</td>\n",
       "      <td>0.000000</td>\n",
       "      <td>0.000000</td>\n",
       "      <td>0.000000</td>\n",
       "      <td>0.5</td>\n",
       "      <td>0.666667</td>\n",
       "    </tr>\n",
       "    <tr>\n",
       "      <th>116057</th>\n",
       "      <td>0.250000</td>\n",
       "      <td>0.202691</td>\n",
       "      <td>0.4</td>\n",
       "      <td>0.252747</td>\n",
       "      <td>0.619048</td>\n",
       "      <td>0.916667</td>\n",
       "      <td>0.000</td>\n",
       "      <td>0.916268</td>\n",
       "      <td>0.0</td>\n",
       "      <td>0.0</td>\n",
       "      <td>...</td>\n",
       "      <td>0.000000</td>\n",
       "      <td>0.000</td>\n",
       "      <td>0.000000</td>\n",
       "      <td>0.0</td>\n",
       "      <td>0.000000</td>\n",
       "      <td>0.000000</td>\n",
       "      <td>0.000000</td>\n",
       "      <td>0.000000</td>\n",
       "      <td>0.0</td>\n",
       "      <td>0.333333</td>\n",
       "    </tr>\n",
       "  </tbody>\n",
       "</table>\n",
       "<p>116058 rows × 23 columns</p>\n",
       "</div>"
      ],
      "text/plain": [
       "        interest_rate  unpaid_principal_bal  loan_term  loan_to_value  \\\n",
       "0            0.444444              0.170732        1.0       0.978022   \n",
       "1            0.583333              0.111859        1.0       0.725275   \n",
       "2            0.222222              0.298570        0.4       0.472527   \n",
       "3            0.555556              0.104289        1.0       0.439560   \n",
       "4            0.555556              0.095038        1.0       0.813187   \n",
       "...               ...                   ...        ...            ...   \n",
       "116053       0.416667              0.119428        1.0       0.901099   \n",
       "116054       0.166667              0.116905        0.2       0.318681   \n",
       "116055       0.361111              0.130362        1.0       0.571429   \n",
       "116056       0.444444              0.132885        1.0       0.747253   \n",
       "116057       0.250000              0.202691        0.4       0.252747   \n",
       "\n",
       "        debt_to_income_ratio  borrower_credit_score  insurance_percent  \\\n",
       "0                   0.333333               0.826190              0.750   \n",
       "1                   0.682540               0.829762              0.000   \n",
       "2                   0.507937               0.928571              0.000   \n",
       "3                   0.682540               0.753571              0.000   \n",
       "4                   0.666667               0.810714              0.000   \n",
       "...                      ...                    ...                ...   \n",
       "116053              0.333333               0.953571              0.625   \n",
       "116054              0.571429               0.947619              0.000   \n",
       "116055              0.761905               0.861905              0.000   \n",
       "116056              0.190476               0.898810              0.000   \n",
       "116057              0.619048               0.916667              0.000   \n",
       "\n",
       "        co-borrower_credit_score  insurance_type   m1  ...        m5     m6  \\\n",
       "0                       0.000000             0.0  0.0  ...  0.000000  0.000   \n",
       "1                       0.000000             0.0  0.0  ...  0.000000  0.000   \n",
       "2                       0.000000             0.0  0.0  ...  0.000000  0.000   \n",
       "3                       0.763158             0.0  0.0  ...  0.000000  0.000   \n",
       "4                       0.000000             0.0  0.0  ...  0.571429  0.625   \n",
       "...                          ...             ...  ...  ...       ...    ...   \n",
       "116053                  0.959330             0.0  0.0  ...  0.000000  0.000   \n",
       "116054                  0.000000             0.0  0.0  ...  0.000000  0.000   \n",
       "116055                  0.864833             0.0  0.0  ...  0.000000  0.000   \n",
       "116056                  0.892344             0.0  0.0  ...  0.000000  0.000   \n",
       "116057                  0.916268             0.0  0.0  ...  0.000000  0.000   \n",
       "\n",
       "              m7   m8        m9       m10       m11       m12  org_date_month  \\\n",
       "0       0.111111  0.0  0.000000  0.000000  0.000000  0.000000             1.0   \n",
       "1       0.000000  0.0  0.000000  0.000000  0.076923  0.000000             0.0   \n",
       "2       0.000000  0.0  0.000000  0.000000  0.000000  0.000000             0.0   \n",
       "3       0.000000  0.0  0.090909  0.083333  0.076923  0.071429             0.5   \n",
       "4       0.666667  0.7  0.727273  0.750000  0.769231  0.785714             0.5   \n",
       "...          ...  ...       ...       ...       ...       ...             ...   \n",
       "116053  0.000000  0.0  0.000000  0.000000  0.000000  0.000000             0.5   \n",
       "116054  0.000000  0.0  0.000000  0.000000  0.000000  0.000000             0.0   \n",
       "116055  0.000000  0.0  0.000000  0.000000  0.000000  0.000000             0.5   \n",
       "116056  0.000000  0.0  0.000000  0.000000  0.000000  0.000000             0.5   \n",
       "116057  0.000000  0.0  0.000000  0.000000  0.000000  0.000000             0.0   \n",
       "\n",
       "        firs_pay_month  \n",
       "0             1.000000  \n",
       "1             0.333333  \n",
       "2             0.333333  \n",
       "3             0.666667  \n",
       "4             0.666667  \n",
       "...                ...  \n",
       "116053        0.666667  \n",
       "116054        0.333333  \n",
       "116055        0.666667  \n",
       "116056        0.666667  \n",
       "116057        0.333333  \n",
       "\n",
       "[116058 rows x 23 columns]"
      ]
     },
     "execution_count": 69,
     "metadata": {},
     "output_type": "execute_result"
    }
   ],
   "source": [
    "# min max scaling\n",
    "from sklearn.preprocessing import MinMaxScaler\n",
    "mms = MinMaxScaler()\n",
    "X.loc[:,:] = mms.fit_transform(X)\n",
    "X"
   ]
  },
  {
   "cell_type": "code",
   "execution_count": 70,
   "id": "ec751c0e",
   "metadata": {},
   "outputs": [],
   "source": [
    "# split into train and test set\\\n",
    "from sklearn.model_selection import train_test_split\n",
    "X_train, X_test, y_train, y_test = train_test_split(X,y,test_size=0.2,random_state=42)"
   ]
  },
  {
   "cell_type": "markdown",
   "id": "641a199c",
   "metadata": {},
   "source": [
    "### After scaling"
   ]
  },
  {
   "cell_type": "markdown",
   "id": "22606aa2",
   "metadata": {},
   "source": [
    "### Logistic Regression"
   ]
  },
  {
   "cell_type": "code",
   "execution_count": 71,
   "id": "a1d48906",
   "metadata": {},
   "outputs": [],
   "source": [
    "log_reg = LogisticRegression()\n",
    "log_reg_model1 = log_reg.fit(X_train, y_train)\n",
    "log_pred1 = log_reg_model1.predict(X_test)"
   ]
  },
  {
   "cell_type": "code",
   "execution_count": 72,
   "id": "98b0792c",
   "metadata": {},
   "outputs": [
    {
     "name": "stdout",
     "output_type": "stream",
     "text": [
      "Confusion Matrix is \n",
      ": [[23083     1]\n",
      " [  104    24]]\n"
     ]
    }
   ],
   "source": [
    "print('Confusion Matrix is \\n:', confusion_matrix(y_test,log_pred1))"
   ]
  },
  {
   "cell_type": "code",
   "execution_count": 75,
   "id": "614b516d",
   "metadata": {},
   "outputs": [
    {
     "name": "stdout",
     "output_type": "stream",
     "text": [
      "Accuracy Score is : 0.9954764776839565\n"
     ]
    }
   ],
   "source": [
    "print('Accuracy Score is :', accuracy_score(y_test,log_pred1))"
   ]
  },
  {
   "cell_type": "markdown",
   "id": "0db930d5",
   "metadata": {},
   "source": [
    "### SVM"
   ]
  },
  {
   "cell_type": "code",
   "execution_count": 74,
   "id": "4d9ee367",
   "metadata": {},
   "outputs": [],
   "source": [
    "svm_clf = SVC(kernel='rbf')\n",
    "svm_model1 = svm_clf.fit(X_train, y_train)\n",
    "svm_pred1 = svm_model1.predict(X_test)"
   ]
  },
  {
   "cell_type": "code",
   "execution_count": 76,
   "id": "ab61f526",
   "metadata": {},
   "outputs": [
    {
     "name": "stdout",
     "output_type": "stream",
     "text": [
      "Confusion Matrix is \n",
      ": [[23084     0]\n",
      " [  107    21]]\n"
     ]
    }
   ],
   "source": [
    "print('Confusion Matrix is \\n:', confusion_matrix(y_test,svm_pred1))"
   ]
  },
  {
   "cell_type": "code",
   "execution_count": 77,
   "id": "bd4e8778",
   "metadata": {},
   "outputs": [
    {
     "name": "stdout",
     "output_type": "stream",
     "text": [
      "Accuracy Score is \n",
      ": 0.9953903153541271\n"
     ]
    }
   ],
   "source": [
    "print('Accuracy Score is \\n:', accuracy_score(y_test,svm_pred1))"
   ]
  },
  {
   "cell_type": "markdown",
   "id": "bf7e818a",
   "metadata": {},
   "source": [
    "### kNN"
   ]
  },
  {
   "cell_type": "code",
   "execution_count": 78,
   "id": "00508511",
   "metadata": {},
   "outputs": [],
   "source": [
    "# kNN model takes long time to run\n",
    "# find the optimum k value\n",
    "metric_k = []\n",
    "neighbors = range(3, 15)\n",
    "\n",
    "for k in neighbors:\n",
    "    classifier = KNeighborsClassifier(n_neighbors=k)\n",
    "    classifier = classifier.fit(X_train, y_train)\n",
    "    y_pred_kNN = classifier.predict(X_test)\n",
    "    acc = accuracy_score(y_test, y_pred_kNN)\n",
    "    metric_k.append(acc)"
   ]
  },
  {
   "cell_type": "code",
   "execution_count": 80,
   "id": "9359a3cb",
   "metadata": {},
   "outputs": [
    {
     "data": {
      "image/png": "[encoded data removed]",
      "text/plain": [
       "<Figure size 432x288 with 1 Axes>"
      ]
     },
     "metadata": {
      "needs_background": "light"
     },
     "output_type": "display_data"
    }
   ],
   "source": [
    "plt.plot(neighbors, metric_k, 'o-')\n",
    "plt.xlabel('k values')\n",
    "plt.ylabel('Accuracies')\n",
    "plt.grid();"
   ]
  },
  {
   "cell_type": "code",
   "execution_count": 81,
   "id": "a3bc2bfb",
   "metadata": {},
   "outputs": [],
   "source": [
    "classifier = KNeighborsClassifier(n_neighbors=6)\n",
    "classifier = classifier.fit(X_train, y_train)\n",
    "y_pred_kNN = classifier.predict(X_test)"
   ]
  },
  {
   "cell_type": "code",
   "execution_count": 82,
   "id": "18a0333e",
   "metadata": {},
   "outputs": [
    {
     "data": {
      "text/plain": [
       "array([[23082,     2],\n",
       "       [  108,    20]], dtype=int64)"
      ]
     },
     "execution_count": 82,
     "metadata": {},
     "output_type": "execute_result"
    }
   ],
   "source": [
    "confusion_matrix(y_test, y_pred_kNN)"
   ]
  },
  {
   "cell_type": "code",
   "execution_count": 83,
   "id": "18f0b8f4",
   "metadata": {},
   "outputs": [
    {
     "data": {
      "text/plain": [
       "0.9952610718593831"
      ]
     },
     "execution_count": 83,
     "metadata": {},
     "output_type": "execute_result"
    }
   ],
   "source": [
    "accuracy_score(y_test, y_pred_kNN)"
   ]
  },
  {
   "cell_type": "markdown",
   "id": "1e816389",
   "metadata": {},
   "source": [
    "### Decision Tree"
   ]
  },
  {
   "cell_type": "code",
   "execution_count": 84,
   "id": "69350f27",
   "metadata": {},
   "outputs": [],
   "source": [
    "# model\n",
    "dt_clf = DecisionTreeClassifier()\n",
    "dt_clf = dt_clf.fit(X_train, y_train)\n",
    "y_pred_dt = dt_clf.predict(X_test)"
   ]
  },
  {
   "cell_type": "code",
   "execution_count": 85,
   "id": "b3430d6d",
   "metadata": {},
   "outputs": [
    {
     "data": {
      "text/plain": [
       "array([[22983,   101],\n",
       "       [   81,    47]], dtype=int64)"
      ]
     },
     "execution_count": 85,
     "metadata": {},
     "output_type": "execute_result"
    }
   ],
   "source": [
    "confusion_matrix(y_test, y_pred_dt)"
   ]
  },
  {
   "cell_type": "code",
   "execution_count": 86,
   "id": "936faf36",
   "metadata": {},
   "outputs": [
    {
     "data": {
      "text/plain": [
       "0.9921592279855247"
      ]
     },
     "execution_count": 86,
     "metadata": {},
     "output_type": "execute_result"
    }
   ],
   "source": [
    "accuracy_score(y_test, y_pred_dt)"
   ]
  },
  {
   "cell_type": "markdown",
   "id": "b70e7496",
   "metadata": {},
   "source": [
    "### Random Forest"
   ]
  },
  {
   "cell_type": "code",
   "execution_count": 87,
   "id": "75a04088",
   "metadata": {},
   "outputs": [],
   "source": [
    "rf_clf = RandomForestClassifier()\n",
    "rf_clf = rf_clf.fit(X_train,y_train)\n",
    "y_pred_rf = rf_clf.predict(X_test)"
   ]
  },
  {
   "cell_type": "code",
   "execution_count": 88,
   "id": "2e8cb433",
   "metadata": {},
   "outputs": [
    {
     "data": {
      "text/plain": [
       "array([[23074,    10],\n",
       "       [   84,    44]], dtype=int64)"
      ]
     },
     "execution_count": 88,
     "metadata": {},
     "output_type": "execute_result"
    }
   ],
   "source": [
    "confusion_matrix(y_test, y_pred_rf)"
   ]
  },
  {
   "cell_type": "code",
   "execution_count": 89,
   "id": "9084626a",
   "metadata": {},
   "outputs": [
    {
     "data": {
      "text/plain": [
       "0.9959503704980183"
      ]
     },
     "execution_count": 89,
     "metadata": {},
     "output_type": "execute_result"
    }
   ],
   "source": [
    "accuracy_score(y_test, y_pred_rf)"
   ]
  },
  {
   "cell_type": "markdown",
   "id": "98836c7d",
   "metadata": {},
   "source": [
    "### Random Forest before min max scaling scaling has the largest accuracy(96 %)"
   ]
  },
  {
   "cell_type": "code",
   "execution_count": null,
   "id": "cefe3652",
   "metadata": {},
   "outputs": [],
   "source": []
  }
 ],
 "metadata": {
  "kernelspec": {
   "display_name": "Python 3 (ipykernel)",
   "language": "python",
   "name": "python3"
  },
  "language_info": {
   "codemirror_mode": {
    "name": "ipython",
    "version": 3
   },
   "file_extension": ".py",
   "mimetype": "text/x-python",
   "name": "python",
   "nbconvert_exporter": "python",
   "pygments_lexer": "ipython3",
   "version": "3.9.12"
  }
 },
 "nbformat": 4,
 "nbformat_minor": 5
}
